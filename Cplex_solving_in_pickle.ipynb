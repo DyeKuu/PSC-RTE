{
 "cells": [
  {
   "cell_type": "code",
   "execution_count": 2,
   "metadata": {},
   "outputs": [],
   "source": [
    "import cplex\n",
    "import os\n",
    "import datetime\n",
    "import sys\n",
    "import numpy as np\n",
    "import pandas as pd\n",
    "import pickle"
   ]
  },
  {
   "cell_type": "code",
   "execution_count": 61,
   "metadata": {},
   "outputs": [
    {
     "name": "stdout",
     "output_type": "stream",
     "text": [
      "['problem-1-1-20190923-142640.mps', 'problem-1-1-20190923-142645.mps', 'problem-1-2-20190923-142652.mps']\n"
     ]
    }
   ],
   "source": [
    "path = \"..//test//\"  #Attention!!!!!! Changer test par Data_RTE\n",
    "read_path = path+\"Problem_RTE//\"\n",
    "write_path = path+\"OurSolution_RTE//\"\n",
    "files = os.listdir(read_path) #obtenir tous les noms sous le ficher\n",
    "print(files)"
   ]
  },
  {
   "cell_type": "code",
   "execution_count": 62,
   "metadata": {},
   "outputs": [],
   "source": [
    "prob = cplex.Cplex()"
   ]
  },
  {
   "cell_type": "code",
   "execution_count": 63,
   "metadata": {},
   "outputs": [
    {
     "name": "stdout",
     "output_type": "stream",
     "text": [
      "\n",
      "Selected objective sense:  MINIMIZE\n",
      "Selected objective  name:  OBJECTIF\n",
      "Selected RHS        name:  RHSVAL\n",
      "Selected bound      name:  BNDVALUE\n"
     ]
    },
    {
     "name": "stderr",
     "output_type": "stream",
     "text": [
      "Warning:  Column 'C0000163' in bound 'BNDVALUE' is Fixed.\n",
      "Warning:  Column 'C0000200' in bound 'BNDVALUE' is Fixed.\n",
      "Warning:  Column 'C0000261' in bound 'BNDVALUE' is Fixed.\n",
      "Warning:  Column 'C0000271' in bound 'BNDVALUE' is Fixed.\n",
      "Warning:  Column 'C0000467' in bound 'BNDVALUE' is Fixed.\n",
      "Warning:  Column 'C0000504' in bound 'BNDVALUE' is Fixed.\n",
      "Warning:  Column 'C0000565' in bound 'BNDVALUE' is Fixed.\n",
      "Warning:  Column 'C0000575' in bound 'BNDVALUE' is Fixed.\n",
      "Warning:  Column 'C0000771' in bound 'BNDVALUE' is Fixed.\n",
      "Warning:  Column 'C0000808' in bound 'BNDVALUE' is Fixed.\n",
      "Warning:  Column 'C0000869' in bound 'BNDVALUE' is Fixed.\n",
      "Warning:  Column 'C0000879' in bound 'BNDVALUE' is Fixed.\n",
      "Warning:  Column 'C0001075' in bound 'BNDVALUE' is Fixed.\n",
      "Warning:  Column 'C0001112' in bound 'BNDVALUE' is Fixed.\n",
      "Warning:  Column 'C0001173' in bound 'BNDVALUE' is Fixed.\n",
      "Warning:  Column 'C0001183' in bound 'BNDVALUE' is Fixed.\n",
      "Warning:  Column 'C0001379' in bound 'BNDVALUE' is Fixed.\n",
      "Warning:  Column 'C0001416' in bound 'BNDVALUE' is Fixed.\n",
      "Warning:  Column 'C0001477' in bound 'BNDVALUE' is Fixed.\n",
      "Warning:  Column 'C0001487' in bound 'BNDVALUE' is Fixed.\n",
      "17931 Column-fixed warnings not printed.\n"
     ]
    },
    {
     "name": "stdout",
     "output_type": "stream",
     "text": [
      "CPXPARAM_Read_DataCheck                          1\n",
      "Parallel mode: deterministic, using up to 4 threads for concurrent optimization.\n",
      "Tried aggregator 1 time.\n",
      "LP Presolve eliminated 43578 rows and 38350 columns.\n",
      "Aggregator did 2439 substitutions.\n",
      "Reduced LP has 72697 rows, 78827 columns, and 560440 nonzeros.\n",
      "Presolve time = 0.36 sec. (199.05 ticks)\n",
      "Initializing dual steep norms . . .\n",
      "\n",
      "Iteration log . . .\n",
      "Iteration:     1   Dual objective     =     376966393.994610\n",
      "Iteration:   920   Dual objective     =     842276924.671217\n",
      "Iteration:  1700   Dual objective     =     873575680.954683\n",
      "Iteration:  2505   Dual objective     =     880212127.724112\n",
      "Iteration:  3338   Dual objective     =     897309750.895511\n",
      "Iteration:  4188   Dual objective     =     901486348.644928\n",
      "Iteration:  5128   Dual objective     =     911868490.474870\n",
      "Iteration:  5843   Dual objective     =     914908813.608228\n",
      "Iteration:  6682   Dual objective     =     916036775.617282\n",
      "Iteration:  7601   Dual objective     =     916514259.226461\n",
      "Iteration:  8304   Dual objective     =     917489322.974059\n",
      "Iteration:  8927   Dual objective     =     918820048.345690\n",
      "Iteration:  9818   Dual objective     =     920809753.053777\n",
      "Iteration: 10509   Dual objective     =     921655471.128594\n",
      "Iteration: 11045   Dual objective     =     922611387.660739\n",
      "Iteration: 11582   Dual objective     =     923339347.230596\n",
      "Iteration: 12281   Dual objective     =     923521580.930739\n",
      "Iteration: 12787   Dual objective     =     924316326.184857\n",
      "Iteration: 13251   Dual objective     =     924506405.728687\n",
      "Iteration: 13786   Dual objective     =     924755117.919968\n",
      "Iteration: 14183   Dual objective     =     924890655.399175\n",
      "Iteration: 14737   Dual objective     =     924931212.954653\n",
      "Iteration: 15937   Dual objective     =     924967954.474726\n",
      "Iteration: 16434   Dual objective     =     924980862.676247\n",
      "Iteration: 17100   Dual objective     =     924983407.379278\n",
      "Removing shift (2).\n",
      "\n",
      "Dual simplex solved model.\n",
      "\n",
      "\n",
      "Selected objective sense:  MINIMIZE\n",
      "Selected objective  name:  OBJECTIF\n",
      "Selected RHS        name:  RHSVAL\n",
      "Selected bound      name:  BNDVALUE\n"
     ]
    },
    {
     "name": "stderr",
     "output_type": "stream",
     "text": [
      "Warning:  Column 'C0000163' in bound 'BNDVALUE' is Fixed.\n",
      "Warning:  Column 'C0000200' in bound 'BNDVALUE' is Fixed.\n",
      "Warning:  Column 'C0000261' in bound 'BNDVALUE' is Fixed.\n",
      "Warning:  Column 'C0000271' in bound 'BNDVALUE' is Fixed.\n",
      "Warning:  Column 'C0000467' in bound 'BNDVALUE' is Fixed.\n",
      "Warning:  Column 'C0000504' in bound 'BNDVALUE' is Fixed.\n",
      "Warning:  Column 'C0000565' in bound 'BNDVALUE' is Fixed.\n",
      "Warning:  Column 'C0000575' in bound 'BNDVALUE' is Fixed.\n",
      "Warning:  Column 'C0000771' in bound 'BNDVALUE' is Fixed.\n",
      "Warning:  Column 'C0000808' in bound 'BNDVALUE' is Fixed.\n",
      "Warning:  Column 'C0000869' in bound 'BNDVALUE' is Fixed.\n",
      "Warning:  Column 'C0000879' in bound 'BNDVALUE' is Fixed.\n",
      "Warning:  Column 'C0001075' in bound 'BNDVALUE' is Fixed.\n",
      "Warning:  Column 'C0001112' in bound 'BNDVALUE' is Fixed.\n",
      "Warning:  Column 'C0001173' in bound 'BNDVALUE' is Fixed.\n",
      "Warning:  Column 'C0001183' in bound 'BNDVALUE' is Fixed.\n",
      "Warning:  Column 'C0001379' in bound 'BNDVALUE' is Fixed.\n",
      "Warning:  Column 'C0001416' in bound 'BNDVALUE' is Fixed.\n",
      "Warning:  Column 'C0001477' in bound 'BNDVALUE' is Fixed.\n",
      "Warning:  Column 'C0001487' in bound 'BNDVALUE' is Fixed.\n",
      "17931 Column-fixed warnings not printed.\n"
     ]
    },
    {
     "name": "stdout",
     "output_type": "stream",
     "text": [
      "CPXPARAM_Read_DataCheck                          1\n",
      "Parallel mode: deterministic, using up to 4 threads for concurrent optimization.\n",
      "Tried aggregator 1 time.\n",
      "LP Presolve eliminated 61880 rows and 49978 columns.\n",
      "Aggregator did 2463 substitutions.\n",
      "Reduced LP has 54371 rows, 67175 columns, and 214772 nonzeros.\n",
      "Presolve time = 0.31 sec. (150.75 ticks)\n",
      "Initializing dual steep norms . . .\n",
      "\n",
      "Iteration log . . .\n",
      "Iteration:     1   Dual objective     =     575389537.183154\n",
      "Iteration:   868   Dual objective     =     813360619.434793\n",
      "Iteration:  1814   Dual objective     =     886476501.542120\n",
      "Iteration:  2581   Dual objective     =     896203756.119167\n",
      "Iteration:  3347   Dual objective     =     903993326.853390\n",
      "Iteration:  4165   Dual objective     =     917527129.004552\n",
      "Iteration:  4934   Dual objective     =     919054593.607464\n",
      "Iteration:  5796   Dual objective     =     922032286.174042\n",
      "Iteration:  6559   Dual objective     =     924743288.984826\n",
      "Iteration:  7203   Dual objective     =     925377269.774871\n",
      "Iteration:  7640   Dual objective     =     925517647.116413\n",
      "Iteration:  8146   Dual objective     =     925674138.901703\n",
      "Iteration:  8543   Dual objective     =     925713329.673767\n",
      "Iteration:  8839   Dual objective     =     925724968.175518\n",
      "Iteration:  9164   Dual objective     =     925759727.466346\n",
      "Iteration: 10252   Dual objective     =     925771399.127643\n",
      "Iteration: 10674   Dual objective     =     925811852.192143\n",
      "Iteration: 11240   Dual objective     =     925816349.774792\n",
      "Iteration: 11995   Dual objective     =     925816958.408645\n",
      "\n",
      "Dual simplex solved model.\n",
      "\n",
      "\n",
      "Selected objective sense:  MINIMIZE\n",
      "Selected objective  name:  OBJECTIF\n",
      "Selected RHS        name:  RHSVAL\n",
      "Selected bound      name:  BNDVALUE\n"
     ]
    },
    {
     "name": "stderr",
     "output_type": "stream",
     "text": [
      "Warning:  Column 'C0000200' in bound 'BNDVALUE' is Fixed.\n",
      "Warning:  Column 'C0000238' in bound 'BNDVALUE' is Fixed.\n",
      "Warning:  Column 'C0000261' in bound 'BNDVALUE' is Fixed.\n",
      "Warning:  Column 'C0000504' in bound 'BNDVALUE' is Fixed.\n",
      "Warning:  Column 'C0000542' in bound 'BNDVALUE' is Fixed.\n",
      "Warning:  Column 'C0000565' in bound 'BNDVALUE' is Fixed.\n",
      "Warning:  Column 'C0000808' in bound 'BNDVALUE' is Fixed.\n",
      "Warning:  Column 'C0000846' in bound 'BNDVALUE' is Fixed.\n",
      "Warning:  Column 'C0000869' in bound 'BNDVALUE' is Fixed.\n",
      "Warning:  Column 'C0001112' in bound 'BNDVALUE' is Fixed.\n",
      "Warning:  Column 'C0001150' in bound 'BNDVALUE' is Fixed.\n",
      "Warning:  Column 'C0001173' in bound 'BNDVALUE' is Fixed.\n",
      "Warning:  Column 'C0001416' in bound 'BNDVALUE' is Fixed.\n",
      "Warning:  Column 'C0001454' in bound 'BNDVALUE' is Fixed.\n",
      "Warning:  Column 'C0001477' in bound 'BNDVALUE' is Fixed.\n",
      "Warning:  Column 'C0001720' in bound 'BNDVALUE' is Fixed.\n",
      "Warning:  Column 'C0001758' in bound 'BNDVALUE' is Fixed.\n",
      "Warning:  Column 'C0001781' in bound 'BNDVALUE' is Fixed.\n",
      "Warning:  Column 'C0002024' in bound 'BNDVALUE' is Fixed.\n",
      "Warning:  Column 'C0002062' in bound 'BNDVALUE' is Fixed.\n",
      "18220 Column-fixed warnings not printed.\n"
     ]
    },
    {
     "name": "stdout",
     "output_type": "stream",
     "text": [
      "CPXPARAM_Read_DataCheck                          1\n",
      "Parallel mode: deterministic, using up to 4 threads for concurrent optimization.\n",
      "Tried aggregator 1 time.\n",
      "LP Presolve eliminated 43177 rows and 38353 columns.\n",
      "Aggregator did 2441 substitutions.\n",
      "Reduced LP has 73096 rows, 78822 columns, and 617110 nonzeros.\n",
      "Presolve time = 0.41 sec. (206.99 ticks)\n",
      "Initializing dual steep norms . . .\n",
      "\n",
      "Iteration log . . .\n",
      "Iteration:     1   Dual objective     =     380448420.518828\n",
      "Iteration:   955   Dual objective     =     925456494.118816\n",
      "Iteration:  1780   Dual objective     =     948357073.468370\n",
      "Iteration:  2389   Dual objective     =     955335084.155459\n",
      "Iteration:  3410   Dual objective     =     978174489.374527\n",
      "Iteration:  4275   Dual objective     =     981822461.779584\n",
      "Iteration:  5160   Dual objective     =     984840185.991894\n",
      "Iteration:  5917   Dual objective     =     987673854.374724\n",
      "Perturbation started.\n",
      "Iteration:  6161   Dual objective     =     987865672.431481\n",
      "Iteration:  6867   Dual objective     =     988939715.735417\n",
      "Iteration:  7735   Dual objective     =     989479014.715743\n",
      "Iteration:  8512   Dual objective     =     990137000.384895\n",
      "Iteration:  9142   Dual objective     =     990851201.669889\n",
      "Iteration:  9839   Dual objective     =     991821100.977605\n",
      "Iteration: 10529   Dual objective     =     992605392.481996\n",
      "Iteration: 11167   Dual objective     =     993179636.853314\n",
      "Iteration: 11691   Dual objective     =     993665481.326461\n",
      "Iteration: 12248   Dual objective     =     993985170.955886\n",
      "Iteration: 12801   Dual objective     =     994243035.928111\n",
      "Iteration: 13287   Dual objective     =     994306133.513685\n",
      "Iteration: 13767   Dual objective     =     994475187.220490\n",
      "Iteration: 14326   Dual objective     =     994549379.868806\n",
      "Iteration: 14895   Dual objective     =     994711570.003864\n",
      "Iteration: 15346   Dual objective     =     994783693.485986\n",
      "Iteration: 15808   Dual objective     =     994871048.856509\n",
      "Iteration: 16303   Dual objective     =     994904602.713202\n",
      "Iteration: 17351   Dual objective     =     994906585.004131\n",
      "Iteration: 17751   Dual objective     =     994910720.638904\n",
      "Iteration: 18526   Dual objective     =     994911375.582316\n",
      "Removing perturbation.\n",
      "\n",
      "Dual simplex solved model.\n",
      "\n"
     ]
    }
   ],
   "source": [
    "start_time = datetime.datetime.now()\n",
    "\n",
    "sol_list = []\n",
    "seconds_membres = []\n",
    "noms = []\n",
    "for file in files:\n",
    "    prob.read(read_path+file)\n",
    "    prob.solve()\n",
    "    ind = int(file[-5])\n",
    "    ind = ind + 1\n",
    "    objective_value = prob.solution.get_objective_value()    \n",
    "    sol_list.append(objective_value)\n",
    "    seconds_membres.append(prob.linear_constraints.get_rhs())\n",
    "    noms.append(file[7:-5]+str(ind))\n",
    "end_time = datetime.datetime.now()\n",
    "execution_time = end_time - start_time #calcule le temps d'exécution"
   ]
  },
  {
   "cell_type": "code",
   "execution_count": 64,
   "metadata": {},
   "outputs": [
    {
     "name": "stdout",
     "output_type": "stream",
     "text": [
      "0:00:16.339907\n"
     ]
    }
   ],
   "source": [
    "print(execution_time)"
   ]
  },
  {
   "cell_type": "code",
   "execution_count": 66,
   "metadata": {},
   "outputs": [],
   "source": [
    "#seconds_membres = pd.DataFrame(seconds_membres)\n",
    "#seconds_membres.to_csv(\"SecondMembers_test.csv\")  #write data\n",
    "tableau_solutions = np.array([])"
   ]
  },
  {
   "cell_type": "code",
   "execution_count": 67,
   "metadata": {},
   "outputs": [],
   "source": [
    "#df = pd.read_csv(\"SecondMembers_test.csv\",index_col=0) #read data\n",
    "#print(df)\n",
    "#pickle.dump(seconds_membres, open(\"SecondMember_test\", \"wb\"))\n",
    "def genere_seconds_membres(seconds_membres, noms):\n",
    "    n = len(seconds_membres[0])\n",
    "    r = []\n",
    "    for i in range(len(seconds_membres)):\n",
    "        assert len(seconds_membres[i]) == n\n",
    "        r.append((np.array(seconds_membres[i]), noms[i]))\n",
    "    return r\n",
    "pickle.dump(genere_seconds_membres(seconds_membres, noms), open(\"SecondMember_test.pickle\",\"wb\"))# remplacer par SecondMembers\n"
   ]
  },
  {
   "cell_type": "code",
   "execution_count": 68,
   "metadata": {},
   "outputs": [],
   "source": [
    "def genere_solutions(sol_list,noms):\n",
    "    assert len(sol_list) == len(noms)\n",
    "    r = []\n",
    "    for i in range(len(sol_list)):\n",
    "        r.append((sol_list[i],noms[i]))\n",
    "    return r\n",
    "pickle.dump(genere_solutions(sol_list, noms), open(\"OurSolutions_test.pickle\",\"wb\"))# remplacer par OurSolutions\n"
   ]
  },
  {
   "cell_type": "code",
   "execution_count": 69,
   "metadata": {},
   "outputs": [],
   "source": [
    "def charge_seconds_membres():\n",
    "    import pickle\n",
    "    l = pickle.load(open(\"SecondMember_test.pickle\",\"rb\"))# A changer par l = pickle.load(open(\"SecondMember.pickle\",\"rb\"))\n",
    "    seconds_membres = []\n",
    "    noms = []\n",
    "    for (second_membre, nom) in l:\n",
    "        seconds_membres.append(second_membre)\n",
    "        noms.append(nom)\n",
    "    return (np.array(seconds_membres), noms)\n"
   ]
  },
  {
   "cell_type": "code",
   "execution_count": 70,
   "metadata": {},
   "outputs": [],
   "source": [
    "def charge_solutions():\n",
    "    import pickle\n",
    "    l = pickle.load(open(\"OurSolutions_test.pickle\", \"rb\"))\n",
    "    solutions = []\n",
    "    noms = []\n",
    "    for (solution, nom) in l:\n",
    "        solutions.append(solution)\n",
    "        noms.append(nom)\n",
    "    return (np.array(solutions), noms)\n"
   ]
  },
  {
   "cell_type": "code",
   "execution_count": 71,
   "metadata": {},
   "outputs": [],
   "source": [
    "def verifie_noms(noms1, noms2):\n",
    "    assert len(noms1) == len(noms2)\n",
    "    for i in range(len(noms1)):\n",
    "        assert noms1[i] == noms2[i]"
   ]
  },
  {
   "cell_type": "code",
   "execution_count": 72,
   "metadata": {},
   "outputs": [],
   "source": [
    "### Pour un chargement complet \n",
    "array_seconds_membres, noms_seconds_membres = charge_seconds_membres()\n",
    "vect_solutions, noms_solutions = charge_solutions()\n",
    "verifie_noms(noms_solutions, noms_seconds_membres)\n"
   ]
  },
  {
   "cell_type": "code",
   "execution_count": 129,
   "metadata": {},
   "outputs": [
    {
     "name": "stdout",
     "output_type": "stream",
     "text": [
      "<class 'numpy.ndarray'>\n",
      "(3, 118714)\n"
     ]
    }
   ],
   "source": [
    "print(type(vect_solutions))\n",
    "print(array_seconds_membres.shape)"
   ]
  },
  {
   "cell_type": "code",
   "execution_count": 154,
   "metadata": {
    "scrolled": true
   },
   "outputs": [
    {
     "name": "stdout",
     "output_type": "stream",
     "text": [
      "[[-2.363e+03  3.496e+03 -6.008e+03 ...  5.000e+00  5.000e+00  5.000e+00]\n",
      " [-2.363e+03  3.496e+03 -6.008e+03 ...  5.000e+00  5.000e+00  5.000e+00]\n",
      " [-2.433e+03  3.440e+03 -6.319e+03 ...  5.000e+00  5.000e+00  5.000e+00]]\n"
     ]
    }
   ],
   "source": [
    "print(array_seconds_membres)"
   ]
  },
  {
   "cell_type": "code",
   "execution_count": 155,
   "metadata": {},
   "outputs": [
    {
     "name": "stdout",
     "output_type": "stream",
     "text": [
      "['-1-1-20190923-142641', '-1-1-20190923-142646', '-1-2-20190923-142653']\n"
     ]
    }
   ],
   "source": [
    "print(noms_seconds_membres)"
   ]
  },
  {
   "cell_type": "code",
   "execution_count": 156,
   "metadata": {
    "scrolled": true
   },
   "outputs": [
    {
     "name": "stdout",
     "output_type": "stream",
     "text": [
      "[9.24983458e+08 9.25816969e+08 9.94911375e+08]\n"
     ]
    }
   ],
   "source": [
    "print(vect_solutions)"
   ]
  },
  {
   "cell_type": "markdown",
   "metadata": {},
   "source": [
    "### Une autre méthode pour charger les données 0 signifie les seconds membres et 1 signifie les noms"
   ]
  },
  {
   "cell_type": "code",
   "execution_count": 3,
   "metadata": {
    "scrolled": true
   },
   "outputs": [
    {
     "name": "stdout",
     "output_type": "stream",
     "text": [
      "[array([-2.363e+03,  3.496e+03, -6.008e+03, ...,  5.000e+00,  5.000e+00,\n",
      "        5.000e+00])\n",
      " array([-2.363e+03,  3.496e+03, -6.008e+03, ...,  5.000e+00,  5.000e+00,\n",
      "        5.000e+00])\n",
      " array([-1748.,  3944., -3911., ...,     4.,     4.,     4.]) ...\n",
      " array([-1.843e+03,  3.758e+03, -5.370e+03, ...,  5.000e+00,  5.000e+00,\n",
      "        5.000e+00])\n",
      " array([-2.434e+03,  3.266e+03, -6.060e+03, ...,  5.000e+00,  5.000e+00,\n",
      "        5.000e+00])\n",
      " array([-2.434e+03,  3.266e+03, -6.060e+03, ...,  5.000e+00,  5.000e+00,\n",
      "        5.000e+00])]\n"
     ]
    }
   ],
   "source": [
    "df=np.array(pd.DataFrame(pd.read_pickle(\"SecondMember_test.pickle\"))[0])\n",
    "print(df)"
   ]
  },
  {
   "cell_type": "code",
   "execution_count": 9,
   "metadata": {},
   "outputs": [
    {
     "name": "stdout",
     "output_type": "stream",
     "text": [
      "[['-1-1-20190923-142641']\n",
      " ['-1-1-20190923-142646']\n",
      " ['-1-10-20190923-142804']\n",
      " ...\n",
      " ['-9-8-20190923-1427310']\n",
      " ['-9-9-20190923-142745']\n",
      " ['-9-9-20190923-142747']]\n"
     ]
    }
   ],
   "source": [
    "df=np.vstack(np.array(pd.DataFrame(pd.read_pickle(\"SecondMember_test.pickle\"))[1]))\n",
    "print(df)"
   ]
  },
  {
   "cell_type": "code",
   "execution_count": null,
   "metadata": {},
   "outputs": [],
   "source": []
  }
 ],
 "metadata": {
  "kernelspec": {
   "display_name": "Python 3",
   "language": "python",
   "name": "python3"
  },
  "language_info": {
   "codemirror_mode": {
    "name": "ipython",
    "version": 3
   },
   "file_extension": ".py",
   "mimetype": "text/x-python",
   "name": "python",
   "nbconvert_exporter": "python",
   "pygments_lexer": "ipython3",
   "version": "3.7.3"
  }
 },
 "nbformat": 4,
 "nbformat_minor": 2
}
