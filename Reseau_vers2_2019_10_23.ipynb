{
 "cells": [
  {
   "cell_type": "code",
   "execution_count": 6,
   "metadata": {},
   "outputs": [],
   "source": [
    "import tensorflow as tf\n",
    "import pandas as pd\n",
    "import numpy as np\n",
    "import scipy as sc\n",
    "import matplotlib.pyplot as plt\n",
    "\n",
    "from bokeh.io import show, output_notebook\n",
    "from bokeh.plotting import figure\n",
    "from bokeh.layouts import row, column\n",
    "\n",
    "from sklearn.preprocessing import StandardScaler\n",
    "from sklearn.model_selection import train_test_split"
   ]
  },
  {
   "cell_type": "markdown",
   "metadata": {},
   "source": [
    "# Configuration des données"
   ]
  },
  {
   "cell_type": "code",
   "execution_count": 21,
   "metadata": {},
   "outputs": [],
   "source": [
    "#importation des données ICI\n",
    "secondmembres = np.vstack(np.array(pd.DataFrame(pd.read_pickle(\"SecondMember_test.pickle\"))[0]))\n",
    "solutions = np.vstack(np.array(pd.DataFrame(pd.read_pickle(\"OurSolutions_test.pickle\"))[0]))"
   ]
  },
  {
   "cell_type": "code",
   "execution_count": 22,
   "metadata": {},
   "outputs": [
    {
     "name": "stdout",
     "output_type": "stream",
     "text": [
      "0.3037269436112302\n"
     ]
    }
   ],
   "source": [
    "#Mise en forme des données\n",
    "moyen_solutions = np.mean(solutions)\n",
    "solutions = solutions/(8*moyen_solutions) + 3/8\n",
    "moyen_solutions = np.mean(solutions)\n",
    "\n",
    "#écart maximal entre les solutions \n",
    "val = (np.max(np.abs(solutions))-np.min(np.abs(solutions)))\n",
    "print(val)"
   ]
  },
  {
   "cell_type": "code",
   "execution_count": 23,
   "metadata": {
    "scrolled": true
   },
   "outputs": [],
   "source": [
    "#Normalize\n",
    "scaler = StandardScaler()\n",
    "secondmembres = scaler.fit_transform(secondmembres)\n",
    "\n",
    "pb_train, pb_test, sol_train, sol_test = train_test_split(secondmembres, solutions, test_size = 0.2, random_state = 1)"
   ]
  },
  {
   "cell_type": "code",
   "execution_count": 25,
   "metadata": {},
   "outputs": [],
   "source": [
    "# pb_train = np.reshape(secondmembres,(832,1,118714))\n",
    "# pb_test = np.reshape(secondmembres,(1040-832,1,118714))"
   ]
  },
  {
   "cell_type": "markdown",
   "metadata": {},
   "source": [
    "# Création du modèle"
   ]
  },
  {
   "cell_type": "code",
   "execution_count": 24,
   "metadata": {},
   "outputs": [
    {
     "name": "stdout",
     "output_type": "stream",
     "text": [
      "WARNING:tensorflow:From D:\\Anaconda\\lib\\site-packages\\tensorflow\\python\\ops\\init_ops.py:1251: calling VarianceScaling.__init__ (from tensorflow.python.ops.init_ops) with dtype is deprecated and will be removed in a future version.\n",
      "Instructions for updating:\n",
      "Call initializer instance with the dtype argument instead of passing it to the constructor\n"
     ]
    }
   ],
   "source": [
    "model = tf.keras.models.Sequential()\n",
    "\n",
    "########## Add the layers ##########\n",
    "model.add(tf.keras.layers.Dense(150, activation = \"relu\"))\n",
    "model.add(tf.keras.layers.Dense(100, activation = \"relu\"))\n",
    "model.add(tf.keras.layers.Dense(1,activation = \"sigmoid\"))"
   ]
  },
  {
   "cell_type": "code",
   "execution_count": 25,
   "metadata": {},
   "outputs": [],
   "source": [
    "########## Define the loss function ##########\n",
    "model.compile(\n",
    "        loss = \"mean_squared_error\",\n",
    "        optimizer = \"sgd\",\n",
    "        metrics = [\"mean_squared_error\"]\n",
    "        )"
   ]
  },
  {
   "cell_type": "markdown",
   "metadata": {},
   "source": [
    "# Entraînement du modèle"
   ]
  },
  {
   "cell_type": "code",
   "execution_count": 26,
   "metadata": {
    "scrolled": false
   },
   "outputs": [
    {
     "name": "stdout",
     "output_type": "stream",
     "text": [
      "Train on 582 samples, validate on 250 samples\n",
      "Epoch 1/10\n",
      "582/582 [==============================] - 3s 5ms/sample - loss: 0.0038 - mean_squared_error: 0.0038 - val_loss: 0.0021 - val_mean_squared_error: 0.0021\n",
      "Epoch 2/10\n",
      "582/582 [==============================] - 2s 4ms/sample - loss: 0.0012 - mean_squared_error: 0.0012 - val_loss: 0.0017 - val_mean_squared_error: 0.0017\n",
      "Epoch 3/10\n",
      "582/582 [==============================] - 2s 4ms/sample - loss: 5.2735e-04 - mean_squared_error: 5.2735e-04 - val_loss: 0.0015 - val_mean_squared_error: 0.0015\n",
      "Epoch 4/10\n",
      "582/582 [==============================] - 2s 3ms/sample - loss: 2.7190e-04 - mean_squared_error: 2.7190e-04 - val_loss: 0.0013 - val_mean_squared_error: 0.0013\n",
      "Epoch 5/10\n",
      "582/582 [==============================] - 2s 4ms/sample - loss: 1.4553e-04 - mean_squared_error: 1.4553e-04 - val_loss: 0.0013 - val_mean_squared_error: 0.0013\n",
      "Epoch 6/10\n",
      "582/582 [==============================] - 2s 4ms/sample - loss: 8.5951e-05 - mean_squared_error: 8.5951e-05 - val_loss: 0.0012 - val_mean_squared_error: 0.0012\n",
      "Epoch 7/10\n",
      "582/582 [==============================] - 2s 4ms/sample - loss: 5.2677e-05 - mean_squared_error: 5.2677e-05 - val_loss: 0.0012 - val_mean_squared_error: 0.0012\n",
      "Epoch 8/10\n",
      "582/582 [==============================] - 2s 4ms/sample - loss: 3.2734e-05 - mean_squared_error: 3.2734e-05 - val_loss: 0.0012 - val_mean_squared_error: 0.0012\n",
      "Epoch 9/10\n",
      "582/582 [==============================] - 2s 4ms/sample - loss: 2.0564e-05 - mean_squared_error: 2.0564e-05 - val_loss: 0.0012 - val_mean_squared_error: 0.0012\n",
      "Epoch 10/10\n",
      "582/582 [==============================] - 2s 3ms/sample - loss: 1.3652e-05 - mean_squared_error: 1.3652e-05 - val_loss: 0.0012 - val_mean_squared_error: 0.0012\n"
     ]
    }
   ],
   "source": [
    "########### Train the model ##########\n",
    "history = model.fit(pb_train, sol_train, epochs = 10, validation_split = 0.3)"
   ]
  },
  {
   "cell_type": "code",
   "execution_count": 27,
   "metadata": {},
   "outputs": [
    {
     "name": "stdout",
     "output_type": "stream",
     "text": [
      "Model: \"sequential\"\n",
      "_________________________________________________________________\n",
      "Layer (type)                 Output Shape              Param #   \n",
      "=================================================================\n",
      "dense (Dense)                multiple                  17807250  \n",
      "_________________________________________________________________\n",
      "dense_1 (Dense)              multiple                  15100     \n",
      "_________________________________________________________________\n",
      "dense_2 (Dense)              multiple                  101       \n",
      "=================================================================\n",
      "Total params: 17,822,451\n",
      "Trainable params: 17,822,451\n",
      "Non-trainable params: 0\n",
      "_________________________________________________________________\n"
     ]
    }
   ],
   "source": [
    "model.summary()"
   ]
  },
  {
   "cell_type": "markdown",
   "metadata": {},
   "source": [
    "# Visualisation des performances du modèle"
   ]
  },
  {
   "cell_type": "code",
   "execution_count": null,
   "metadata": {},
   "outputs": [],
   "source": [
    "#loss_curve = history.history[\"loss\"]\n",
    "#acc_curve = history.history[\"acc\"]\n",
    "#loss_val_curve = history.history[\"val_loss\"]\n",
    "#acc_val_curve = history.history[\"val_acc\"]\n",
    "#\n",
    "#plt.plot(loss_curve, label = \"Train\")\n",
    "#plt.plot(loss_val_curve, label = \"Val\")\n",
    "#plt.legend(loc = 'upper left')\n",
    "##plt.title(\"Loss\")\n",
    "#plt.show()\n",
    "#\n",
    "#plt.plot(acc_curve, label = \"Train\")\n",
    "#plt.plot(acc_val_curve, label = \"Val\")\n",
    "#plt.legend(loc = 'upper left')\n",
    "##plt.title(\"Accuracy\")\n",
    "#plt.show()"
   ]
  },
  {
   "cell_type": "markdown",
   "metadata": {},
   "source": [
    "# Évaluation du modèle"
   ]
  },
  {
   "cell_type": "code",
   "execution_count": 28,
   "metadata": {},
   "outputs": [
    {
     "name": "stdout",
     "output_type": "stream",
     "text": [
      "208/208 [==============================] - 0s 2ms/sample - loss: 0.0012 - mean_squared_error: 0.0012\n"
     ]
    }
   ],
   "source": [
    "a = model.evaluate(pb_test, sol_test)"
   ]
  },
  {
   "cell_type": "markdown",
   "metadata": {},
   "source": [
    "# Sauvegarde du modèle"
   ]
  },
  {
   "cell_type": "code",
   "execution_count": 29,
   "metadata": {},
   "outputs": [],
   "source": [
    "model.save(\"test1.h5\")"
   ]
  },
  {
   "cell_type": "markdown",
   "metadata": {},
   "source": [
    "# Recherche du meilleur modèle"
   ]
  },
  {
   "cell_type": "code",
   "execution_count": null,
   "metadata": {},
   "outputs": [
    {
     "name": "stdout",
     "output_type": "stream",
     "text": [
      "Train on 582 samples, validate on 250 samples\n",
      "Epoch 1/10\n",
      "582/582 [==============================] - 2s 3ms/sample - loss: 0.0045 - mean_squared_error: 0.0045 - val_loss: 0.0036 - val_mean_squared_error: 0.0036\n",
      "Epoch 2/10\n",
      "582/582 [==============================] - 2s 3ms/sample - loss: 0.0019 - mean_squared_error: 0.0019 - val_loss: 0.0027 - val_mean_squared_error: 0.0027\n",
      "Epoch 3/10\n",
      "582/582 [==============================] - 1s 3ms/sample - loss: 0.0010 - mean_squared_error: 0.0010 - val_loss: 0.0023 - val_mean_squared_error: 0.0023\n",
      "Epoch 4/10\n",
      "582/582 [==============================] - 1s 3ms/sample - loss: 6.1565e-04 - mean_squared_error: 6.1565e-04 - val_loss: 0.0020 - val_mean_squared_error: 0.0020\n",
      "Epoch 5/10\n",
      "582/582 [==============================] - 1s 2ms/sample - loss: 4.0897e-04 - mean_squared_error: 4.0897e-04 - val_loss: 0.0019 - val_mean_squared_error: 0.0019\n",
      "Epoch 6/10\n",
      "582/582 [==============================] - 2s 3ms/sample - loss: 2.8247e-04 - mean_squared_error: 2.8247e-04 - val_loss: 0.0018 - val_mean_squared_error: 0.0018\n",
      "Epoch 7/10\n",
      "582/582 [==============================] - 1s 3ms/sample - loss: 2.0268e-04 - mean_squared_error: 2.0268e-04 - val_loss: 0.0017 - val_mean_squared_error: 0.0017\n",
      "Epoch 8/10\n",
      "582/582 [==============================] - 2s 3ms/sample - loss: 1.4887e-04 - mean_squared_error: 1.4887e-04 - val_loss: 0.0017 - val_mean_squared_error: 0.0017\n",
      "Epoch 9/10\n",
      "582/582 [==============================] - 3s 6ms/sample - loss: 1.1390e-04 - mean_squared_error: 1.1390e-04 - val_loss: 0.0017 - val_mean_squared_error: 0.0017\n",
      "Epoch 10/10\n",
      "582/582 [==============================] - 2s 4ms/sample - loss: 8.8434e-05 - mean_squared_error: 8.8434e-05 - val_loss: 0.0016 - val_mean_squared_error: 0.0016\n",
      "208/208 [==============================] - 0s 2ms/sample - loss: 0.0014 - mean_squared_error: 0.0014\n",
      "Train on 582 samples, validate on 250 samples\n",
      "Epoch 1/10\n",
      "582/582 [==============================] - 2s 3ms/sample - loss: 0.0038 - mean_squared_error: 0.0038 - val_loss: 0.0024 - val_mean_squared_error: 0.0024\n",
      "Epoch 2/10\n",
      "582/582 [==============================] - 2s 3ms/sample - loss: 0.0010 - mean_squared_error: 0.0010 - val_loss: 0.0021 - val_mean_squared_error: 0.0021\n",
      "Epoch 3/10\n",
      "582/582 [==============================] - 2s 3ms/sample - loss: 4.6455e-04 - mean_squared_error: 4.6455e-04 - val_loss: 0.0020 - val_mean_squared_error: 0.0020\n",
      "Epoch 4/10\n",
      "582/582 [==============================] - 2s 3ms/sample - loss: 2.3992e-04 - mean_squared_error: 2.3992e-04 - val_loss: 0.0017 - val_mean_squared_error: 0.0017\n",
      "Epoch 5/10\n",
      "582/582 [==============================] - 2s 3ms/sample - loss: 1.2780e-04 - mean_squared_error: 1.2780e-04 - val_loss: 0.0017 - val_mean_squared_error: 0.0017\n",
      "Epoch 6/10\n",
      "582/582 [==============================] - 2s 3ms/sample - loss: 7.2861e-05 - mean_squared_error: 7.2861e-05 - val_loss: 0.0017 - val_mean_squared_error: 0.0017\n",
      "Epoch 7/10\n",
      "582/582 [==============================] - 2s 3ms/sample - loss: 4.2585e-05 - mean_squared_error: 4.2585e-05 - val_loss: 0.0016 - val_mean_squared_error: 0.0016\n",
      "Epoch 8/10\n",
      "582/582 [==============================] - 2s 3ms/sample - loss: 2.7208e-05 - mean_squared_error: 2.7208e-05 - val_loss: 0.0017 - val_mean_squared_error: 0.0017\n",
      "Epoch 9/10\n",
      "582/582 [==============================] - 2s 3ms/sample - loss: 1.7596e-05 - mean_squared_error: 1.7596e-05 - val_loss: 0.0016 - val_mean_squared_error: 0.0016\n",
      "Epoch 10/10\n",
      "582/582 [==============================] - 2s 3ms/sample - loss: 1.1378e-05 - mean_squared_error: 1.1378e-05 - val_loss: 0.0016 - val_mean_squared_error: 0.0016\n",
      "208/208 [==============================] - 0s 2ms/sample - loss: 0.0013 - mean_squared_error: 0.0013\n",
      "Train on 582 samples, validate on 250 samples\n",
      "Epoch 1/10\n",
      "582/582 [==============================] - 2s 4ms/sample - loss: 0.0044 - mean_squared_error: 0.0044 - val_loss: 0.0036 - val_mean_squared_error: 0.0036\n",
      "Epoch 2/10\n",
      "582/582 [==============================] - 2s 4ms/sample - loss: 0.0010 - mean_squared_error: 0.0010 - val_loss: 0.0029 - val_mean_squared_error: 0.0029\n",
      "Epoch 3/10\n",
      "582/582 [==============================] - 3s 4ms/sample - loss: 4.0755e-04 - mean_squared_error: 4.0755e-04 - val_loss: 0.0026 - val_mean_squared_error: 0.0026\n",
      "Epoch 4/10\n",
      "582/582 [==============================] - 3s 5ms/sample - loss: 1.9201e-04 - mean_squared_error: 1.9201e-04 - val_loss: 0.0026 - val_mean_squared_error: 0.0026\n",
      "Epoch 5/10\n",
      "582/582 [==============================] - 2s 3ms/sample - loss: 9.9230e-05 - mean_squared_error: 9.9230e-05 - val_loss: 0.0025 - val_mean_squared_error: 0.0025\n",
      "Epoch 6/10\n",
      "582/582 [==============================] - 2s 4ms/sample - loss: 5.3901e-05 - mean_squared_error: 5.3901e-05 - val_loss: 0.0025 - val_mean_squared_error: 0.0025\n",
      "Epoch 7/10\n",
      "582/582 [==============================] - 2s 4ms/sample - loss: 2.9231e-05 - mean_squared_error: 2.9231e-05 - val_loss: 0.0025 - val_mean_squared_error: 0.0025\n",
      "Epoch 8/10\n",
      "582/582 [==============================] - 2s 4ms/sample - loss: 1.7388e-05 - mean_squared_error: 1.7388e-05 - val_loss: 0.0024 - val_mean_squared_error: 0.0024\n",
      "Epoch 9/10\n",
      "582/582 [==============================] - 2s 3ms/sample - loss: 1.0090e-05 - mean_squared_error: 1.0090e-05 - val_loss: 0.0024 - val_mean_squared_error: 0.0024\n",
      "Epoch 10/10\n",
      "582/582 [==============================] - 2s 4ms/sample - loss: 5.8462e-06 - mean_squared_error: 5.8462e-06 - val_loss: 0.0024 - val_mean_squared_error: 0.0024\n",
      "208/208 [==============================] - 0s 2ms/sample - loss: 0.0015 - mean_squared_error: 0.0015\n",
      "Train on 582 samples, validate on 250 samples\n",
      "Epoch 1/10\n",
      "582/582 [==============================] - 2s 4ms/sample - loss: 0.0060 - mean_squared_error: 0.0060 - val_loss: 0.0039 - val_mean_squared_error: 0.0039\n",
      "Epoch 2/10\n",
      "582/582 [==============================] - 2s 4ms/sample - loss: 0.0014 - mean_squared_error: 0.0014 - val_loss: 0.0024 - val_mean_squared_error: 0.0024\n",
      "Epoch 3/10\n",
      "582/582 [==============================] - 3s 4ms/sample - loss: 4.3512e-04 - mean_squared_error: 4.3512e-04 - val_loss: 0.0021 - val_mean_squared_error: 0.0021\n",
      "Epoch 4/10\n",
      "582/582 [==============================] - 2s 4ms/sample - loss: 1.5284e-04 - mean_squared_error: 1.5284e-04 - val_loss: 0.0019 - val_mean_squared_error: 0.0019\n",
      "Epoch 5/10\n",
      "582/582 [==============================] - 3s 5ms/sample - loss: 7.4042e-05 - mean_squared_error: 7.4042e-05 - val_loss: 0.0019 - val_mean_squared_error: 0.0019\n",
      "Epoch 6/10\n",
      "582/582 [==============================] - 3s 4ms/sample - loss: 3.8629e-05 - mean_squared_error: 3.8629e-05 - val_loss: 0.0018 - val_mean_squared_error: 0.0018\n",
      "Epoch 7/10\n",
      "582/582 [==============================] - 2s 4ms/sample - loss: 1.8223e-05 - mean_squared_error: 1.8223e-05 - val_loss: 0.0018 - val_mean_squared_error: 0.0018\n",
      "Epoch 8/10\n",
      "582/582 [==============================] - 3s 5ms/sample - loss: 9.8729e-06 - mean_squared_error: 9.8729e-06 - val_loss: 0.0018 - val_mean_squared_error: 0.0018\n",
      "Epoch 9/10\n",
      "582/582 [==============================] - 3s 5ms/sample - loss: 5.5750e-06 - mean_squared_error: 5.5750e-06 - val_loss: 0.0018 - val_mean_squared_error: 0.0018\n",
      "Epoch 10/10\n",
      "582/582 [==============================] - 2s 4ms/sample - loss: 3.2881e-06 - mean_squared_error: 3.2881e-06 - val_loss: 0.0018 - val_mean_squared_error: 0.0018\n",
      "208/208 [==============================] - 0s 2ms/sample - loss: 0.0021 - mean_squared_error: 0.0021\n",
      "Train on 582 samples, validate on 250 samples\n",
      "Epoch 1/10\n",
      "582/582 [==============================] - 3s 5ms/sample - loss: 0.0047 - mean_squared_error: 0.0047 - val_loss: 0.0026 - val_mean_squared_error: 0.0026\n",
      "Epoch 2/10\n",
      "582/582 [==============================] - 2s 4ms/sample - loss: 0.0012 - mean_squared_error: 0.0012 - val_loss: 0.0019 - val_mean_squared_error: 0.0019\n",
      "Epoch 3/10\n",
      "582/582 [==============================] - 2s 4ms/sample - loss: 4.2397e-04 - mean_squared_error: 4.2397e-04 - val_loss: 0.0016 - val_mean_squared_error: 0.0016\n",
      "Epoch 4/10\n",
      "582/582 [==============================] - 2s 4ms/sample - loss: 1.7880e-04 - mean_squared_error: 1.7880e-04 - val_loss: 0.0015 - val_mean_squared_error: 0.0015\n",
      "Epoch 5/10\n"
     ]
    },
    {
     "name": "stdout",
     "output_type": "stream",
     "text": [
      "582/582 [==============================] - 2s 4ms/sample - loss: 8.5608e-05 - mean_squared_error: 8.5608e-05 - val_loss: 0.0015 - val_mean_squared_error: 0.0015\n",
      "Epoch 6/10\n",
      "582/582 [==============================] - 2s 4ms/sample - loss: 4.7366e-05 - mean_squared_error: 4.7366e-05 - val_loss: 0.0015 - val_mean_squared_error: 0.0015\n",
      "Epoch 7/10\n",
      "582/582 [==============================] - 2s 4ms/sample - loss: 2.3182e-05 - mean_squared_error: 2.3182e-05 - val_loss: 0.0015 - val_mean_squared_error: 0.0015\n",
      "Epoch 8/10\n",
      "582/582 [==============================] - 2s 4ms/sample - loss: 1.1986e-05 - mean_squared_error: 1.1986e-05 - val_loss: 0.0015 - val_mean_squared_error: 0.0015\n",
      "Epoch 9/10\n",
      "582/582 [==============================] - 2s 4ms/sample - loss: 6.8214e-06 - mean_squared_error: 6.8214e-06 - val_loss: 0.0014 - val_mean_squared_error: 0.0014\n",
      "Epoch 10/10\n",
      "582/582 [==============================] - 2s 4ms/sample - loss: 4.0564e-06 - mean_squared_error: 4.0564e-06 - val_loss: 0.0014 - val_mean_squared_error: 0.0014\n",
      "208/208 [==============================] - 0s 2ms/sample - loss: 0.0017 - mean_squared_error: 0.0017\n",
      "Train on 582 samples, validate on 250 samples\n",
      "Epoch 1/10\n",
      "582/582 [==============================] - 3s 5ms/sample - loss: 0.0048 - mean_squared_error: 0.0048 - val_loss: 0.0058 - val_mean_squared_error: 0.0058\n",
      "Epoch 2/10\n",
      "582/582 [==============================] - 3s 5ms/sample - loss: 0.0013 - mean_squared_error: 0.0013 - val_loss: 0.0032 - val_mean_squared_error: 0.0032\n",
      "Epoch 3/10\n",
      "582/582 [==============================] - 3s 5ms/sample - loss: 4.4209e-04 - mean_squared_error: 4.4209e-04 - val_loss: 0.0028 - val_mean_squared_error: 0.0028\n",
      "Epoch 4/10\n",
      "582/582 [==============================] - 3s 5ms/sample - loss: 1.8335e-04 - mean_squared_error: 1.8335e-04 - val_loss: 0.0026 - val_mean_squared_error: 0.0026\n",
      "Epoch 5/10\n",
      "582/582 [==============================] - 3s 6ms/sample - loss: 8.1248e-05 - mean_squared_error: 8.1248e-05 - val_loss: 0.0026 - val_mean_squared_error: 0.0026\n",
      "Epoch 6/10\n",
      "582/582 [==============================] - 3s 5ms/sample - loss: 3.9250e-05 - mean_squared_error: 3.9250e-05 - val_loss: 0.0025 - val_mean_squared_error: 0.0025\n",
      "Epoch 7/10\n",
      "582/582 [==============================] - 3s 5ms/sample - loss: 2.0015e-05 - mean_squared_error: 2.0015e-05 - val_loss: 0.0025 - val_mean_squared_error: 0.0025\n",
      "Epoch 8/10\n",
      "582/582 [==============================] - 3s 5ms/sample - loss: 1.0956e-05 - mean_squared_error: 1.0956e-05 - val_loss: 0.0025 - val_mean_squared_error: 0.0025\n",
      "Epoch 9/10\n",
      "582/582 [==============================] - 4s 8ms/sample - loss: 5.5363e-06 - mean_squared_error: 5.5363e-06 - val_loss: 0.0025 - val_mean_squared_error: 0.0025\n",
      "Epoch 10/10\n",
      "582/582 [==============================] - 4s 7ms/sample - loss: 3.0081e-06 - mean_squared_error: 3.0081e-06 - val_loss: 0.0025 - val_mean_squared_error: 0.0025\n",
      "208/208 [==============================] - 0s 2ms/sample - loss: 0.0018 - mean_squared_error: 0.0018\n",
      "Train on 582 samples, validate on 250 samples\n",
      "Epoch 1/10\n",
      "582/582 [==============================] - 3710s 6s/sample - loss: 0.0082 - mean_squared_error: 0.0082 - val_loss: 0.0038 - val_mean_squared_error: 0.0038\n",
      "Epoch 2/10\n",
      "582/582 [==============================] - 5s 8ms/sample - loss: 0.0012 - mean_squared_error: 0.0012 - val_loss: 0.0027 - val_mean_squared_error: 0.0027\n",
      "Epoch 3/10\n",
      "582/582 [==============================] - 4s 7ms/sample - loss: 3.6134e-04 - mean_squared_error: 3.6134e-04 - val_loss: 0.0023 - val_mean_squared_error: 0.0023\n",
      "Epoch 4/10\n",
      "582/582 [==============================] - 4s 6ms/sample - loss: 1.2547e-04 - mean_squared_error: 1.2547e-04 - val_loss: 0.0023 - val_mean_squared_error: 0.0023\n",
      "Epoch 5/10\n",
      "582/582 [==============================] - 5s 8ms/sample - loss: 5.7167e-05 - mean_squared_error: 5.7167e-05 - val_loss: 0.0022 - val_mean_squared_error: 0.0022\n",
      "Epoch 6/10\n",
      "582/582 [==============================] - 4s 6ms/sample - loss: 2.5852e-05 - mean_squared_error: 2.5852e-05 - val_loss: 0.0022 - val_mean_squared_error: 0.0022\n",
      "Epoch 7/10\n",
      "582/582 [==============================] - 4s 6ms/sample - loss: 1.3617e-05 - mean_squared_error: 1.3617e-05 - val_loss: 0.0022 - val_mean_squared_error: 0.0022\n",
      "Epoch 8/10\n",
      "582/582 [==============================] - 4s 8ms/sample - loss: 7.9987e-06 - mean_squared_error: 7.9987e-06 - val_loss: 0.0022 - val_mean_squared_error: 0.0022\n",
      "Epoch 9/10\n",
      "582/582 [==============================] - 3s 5ms/sample - loss: 3.9594e-06 - mean_squared_error: 3.9594e-06 - val_loss: 0.0022 - val_mean_squared_error: 0.0022\n",
      "Epoch 10/10\n",
      "582/582 [==============================] - 3s 5ms/sample - loss: 2.3060e-06 - mean_squared_error: 2.3060e-06 - val_loss: 0.0022 - val_mean_squared_error: 0.0022\n",
      "208/208 [==============================] - 0s 2ms/sample - loss: 0.0025 - mean_squared_error: 0.0025\n",
      "Train on 582 samples, validate on 250 samples\n",
      "Epoch 1/10\n",
      "582/582 [==============================] - 4s 6ms/sample - loss: 0.0109 - mean_squared_error: 0.0109 - val_loss: 0.0062 - val_mean_squared_error: 0.0062\n",
      "Epoch 2/10\n",
      "582/582 [==============================] - 4s 7ms/sample - loss: 0.0018 - mean_squared_error: 0.0018 - val_loss: 0.0044 - val_mean_squared_error: 0.0044\n",
      "Epoch 3/10\n",
      "582/582 [==============================] - 3s 5ms/sample - loss: 6.3426e-04 - mean_squared_error: 6.3426e-04 - val_loss: 0.0041 - val_mean_squared_error: 0.0041\n",
      "Epoch 4/10\n",
      "582/582 [==============================] - 4s 6ms/sample - loss: 4.0408e-04 - mean_squared_error: 4.0408e-04 - val_loss: 0.0035 - val_mean_squared_error: 0.0035\n",
      "Epoch 5/10\n",
      "582/582 [==============================] - 3s 6ms/sample - loss: 1.3425e-04 - mean_squared_error: 1.3425e-04 - val_loss: 0.0033 - val_mean_squared_error: 0.0033\n",
      "Epoch 6/10\n",
      "582/582 [==============================] - 4s 7ms/sample - loss: 5.5803e-05 - mean_squared_error: 5.5803e-05 - val_loss: 0.0034 - val_mean_squared_error: 0.0034\n",
      "Epoch 7/10\n",
      "582/582 [==============================] - 4s 6ms/sample - loss: 2.1349e-05 - mean_squared_error: 2.1349e-05 - val_loss: 0.0033 - val_mean_squared_error: 0.0033\n",
      "Epoch 8/10\n",
      "582/582 [==============================] - 3s 5ms/sample - loss: 1.0049e-05 - mean_squared_error: 1.0049e-05 - val_loss: 0.0033 - val_mean_squared_error: 0.0033\n",
      "Epoch 9/10\n",
      "582/582 [==============================] - 4s 7ms/sample - loss: 4.7216e-06 - mean_squared_error: 4.7216e-06 - val_loss: 0.0033 - val_mean_squared_error: 0.0033\n",
      "Epoch 10/10\n",
      "582/582 [==============================] - 4s 6ms/sample - loss: 2.3813e-06 - mean_squared_error: 2.3813e-06 - val_loss: 0.0033 - val_mean_squared_error: 0.0033\n",
      "208/208 [==============================] - 0s 2ms/sample - loss: 0.0032 - mean_squared_error: 0.0032\n",
      "Train on 582 samples, validate on 250 samples\n",
      "Epoch 1/10\n",
      "582/582 [==============================] - 5s 9ms/sample - loss: 0.0129 - mean_squared_error: 0.0129 - val_loss: 0.0058 - val_mean_squared_error: 0.0058\n",
      "Epoch 2/10\n",
      "582/582 [==============================] - 5s 9ms/sample - loss: 0.0020 - mean_squared_error: 0.0020 - val_loss: 0.0040 - val_mean_squared_error: 0.0040\n",
      "Epoch 3/10\n",
      "582/582 [==============================] - 5s 8ms/sample - loss: 5.7675e-04 - mean_squared_error: 5.7675e-04 - val_loss: 0.0035 - val_mean_squared_error: 0.0035\n",
      "Epoch 4/10\n",
      "582/582 [==============================] - 4s 7ms/sample - loss: 1.8840e-04 - mean_squared_error: 1.8840e-04 - val_loss: 0.0033 - val_mean_squared_error: 0.0033\n",
      "Epoch 5/10\n",
      "582/582 [==============================] - 4s 7ms/sample - loss: 7.9805e-05 - mean_squared_error: 7.9805e-05 - val_loss: 0.0032 - val_mean_squared_error: 0.0032\n",
      "Epoch 6/10\n",
      "582/582 [==============================] - 4s 8ms/sample - loss: 3.5277e-05 - mean_squared_error: 3.5277e-05 - val_loss: 0.0032 - val_mean_squared_error: 0.0032\n",
      "Epoch 7/10\n",
      "582/582 [==============================] - 5s 8ms/sample - loss: 1.7074e-05 - mean_squared_error: 1.7074e-05 - val_loss: 0.0031 - val_mean_squared_error: 0.0031\n",
      "Epoch 8/10\n",
      "582/582 [==============================] - 4s 7ms/sample - loss: 7.5959e-06 - mean_squared_error: 7.5959e-06 - val_loss: 0.0031 - val_mean_squared_error: 0.0031\n",
      "Epoch 9/10\n"
     ]
    },
    {
     "name": "stdout",
     "output_type": "stream",
     "text": [
      "582/582 [==============================] - 5s 8ms/sample - loss: 3.5107e-06 - mean_squared_error: 3.5107e-06 - val_loss: 0.0031 - val_mean_squared_error: 0.0031\n",
      "Epoch 10/10\n",
      "582/582 [==============================] - 4s 6ms/sample - loss: 1.7185e-06 - mean_squared_error: 1.7185e-06 - val_loss: 0.0031 - val_mean_squared_error: 0.0031\n",
      "208/208 [==============================] - 1s 3ms/sample - loss: 0.0024 - mean_squared_error: 0.0024\n",
      "Train on 582 samples, validate on 250 samples\n",
      "Epoch 1/10\n",
      "582/582 [==============================] - 5s 8ms/sample - loss: 0.0061 - mean_squared_error: 0.0061 - val_loss: 0.0047 - val_mean_squared_error: 0.0047\n",
      "Epoch 2/10\n",
      "582/582 [==============================] - 5s 8ms/sample - loss: 0.0012 - mean_squared_error: 0.0012 - val_loss: 0.0036 - val_mean_squared_error: 0.0036\n",
      "Epoch 3/10\n",
      "582/582 [==============================] - 5s 8ms/sample - loss: 2.9488e-04 - mean_squared_error: 2.9488e-04 - val_loss: 0.0034 - val_mean_squared_error: 0.0034\n",
      "Epoch 4/10\n",
      "582/582 [==============================] - 5s 8ms/sample - loss: 9.8151e-05 - mean_squared_error: 9.8151e-05 - val_loss: 0.0032 - val_mean_squared_error: 0.0032\n",
      "Epoch 5/10\n",
      "582/582 [==============================] - 4s 7ms/sample - loss: 2.8296e-05 - mean_squared_error: 2.8296e-05 - val_loss: 0.0032 - val_mean_squared_error: 0.0032\n",
      "Epoch 6/10\n",
      "582/582 [==============================] - 4s 7ms/sample - loss: 9.8507e-06 - mean_squared_error: 9.8507e-06 - val_loss: 0.0032 - val_mean_squared_error: 0.0032\n",
      "Epoch 7/10\n",
      "582/582 [==============================] - 4s 7ms/sample - loss: 6.6580e-06 - mean_squared_error: 6.6580e-06 - val_loss: 0.0032 - val_mean_squared_error: 0.0032\n",
      "Epoch 8/10\n",
      "582/582 [==============================] - 4s 7ms/sample - loss: 2.0421e-06 - mean_squared_error: 2.0421e-06 - val_loss: 0.0032 - val_mean_squared_error: 0.0032\n",
      "Epoch 9/10\n",
      "582/582 [==============================] - 4s 7ms/sample - loss: 8.7699e-07 - mean_squared_error: 8.7699e-07 - val_loss: 0.0032 - val_mean_squared_error: 0.0032\n",
      "Epoch 10/10\n",
      "582/582 [==============================] - 4s 7ms/sample - loss: 3.5023e-07 - mean_squared_error: 3.5023e-07 - val_loss: 0.0032 - val_mean_squared_error: 0.0032\n",
      "208/208 [==============================] - 1s 3ms/sample - loss: 0.0030 - mean_squared_error: 0.0030\n",
      "Train on 582 samples, validate on 250 samples\n",
      "Epoch 1/10\n",
      "582/582 [==============================] - 5s 9ms/sample - loss: 0.0065 - mean_squared_error: 0.0065 - val_loss: 0.0037 - val_mean_squared_error: 0.0037\n",
      "Epoch 2/10\n",
      "582/582 [==============================] - 4s 7ms/sample - loss: 0.0011 - mean_squared_error: 0.0011 - val_loss: 0.0025 - val_mean_squared_error: 0.0025\n",
      "Epoch 3/10\n",
      "582/582 [==============================] - 4s 7ms/sample - loss: 2.9445e-04 - mean_squared_error: 2.9445e-04 - val_loss: 0.0022 - val_mean_squared_error: 0.0022\n",
      "Epoch 4/10\n",
      "582/582 [==============================] - 5s 8ms/sample - loss: 8.7424e-05 - mean_squared_error: 8.7424e-05 - val_loss: 0.0021 - val_mean_squared_error: 0.0021\n",
      "Epoch 5/10\n",
      "582/582 [==============================] - 5s 9ms/sample - loss: 2.9213e-05 - mean_squared_error: 2.9213e-05 - val_loss: 0.0021 - val_mean_squared_error: 0.0021\n",
      "Epoch 6/10\n",
      "582/582 [==============================] - 5s 8ms/sample - loss: 1.4405e-05 - mean_squared_error: 1.4405e-05 - val_loss: 0.0021 - val_mean_squared_error: 0.0021\n",
      "Epoch 7/10\n",
      "582/582 [==============================] - 5s 8ms/sample - loss: 6.1010e-06 - mean_squared_error: 6.1010e-06 - val_loss: 0.0021 - val_mean_squared_error: 0.0021\n",
      "Epoch 8/10\n",
      "582/582 [==============================] - 4s 8ms/sample - loss: 2.1867e-06 - mean_squared_error: 2.1867e-06 - val_loss: 0.0021 - val_mean_squared_error: 0.0021\n",
      "Epoch 9/10\n",
      "582/582 [==============================] - 4s 7ms/sample - loss: 8.3386e-07 - mean_squared_error: 8.3386e-07 - val_loss: 0.0021 - val_mean_squared_error: 0.0021\n",
      "Epoch 10/10\n",
      "582/582 [==============================] - 5s 8ms/sample - loss: 3.6642e-07 - mean_squared_error: 3.6642e-07 - val_loss: 0.0021 - val_mean_squared_error: 0.0021\n",
      "208/208 [==============================] - 1s 3ms/sample - loss: 0.0014 - mean_squared_error: 0.0014\n",
      "Train on 582 samples, validate on 250 samples\n",
      "Epoch 1/10\n",
      "582/582 [==============================] - 5s 9ms/sample - loss: 0.0086 - mean_squared_error: 0.0086 - val_loss: 0.0036 - val_mean_squared_error: 0.0036\n",
      "Epoch 2/10\n",
      "582/582 [==============================] - 4s 7ms/sample - loss: 0.0013 - mean_squared_error: 0.0013 - val_loss: 0.0028 - val_mean_squared_error: 0.0028\n",
      "Epoch 3/10\n",
      "582/582 [==============================] - 4s 7ms/sample - loss: 4.2593e-04 - mean_squared_error: 4.2593e-04 - val_loss: 0.0025 - val_mean_squared_error: 0.0025\n",
      "Epoch 4/10\n",
      "582/582 [==============================] - 5s 8ms/sample - loss: 1.6391e-04 - mean_squared_error: 1.6391e-04 - val_loss: 0.0024 - val_mean_squared_error: 0.0024\n",
      "Epoch 5/10\n",
      "582/582 [==============================] - 4s 8ms/sample - loss: 7.3880e-05 - mean_squared_error: 7.3880e-05 - val_loss: 0.0023 - val_mean_squared_error: 0.0023\n",
      "Epoch 6/10\n",
      "582/582 [==============================] - 4s 7ms/sample - loss: 3.3941e-05 - mean_squared_error: 3.3941e-05 - val_loss: 0.0023 - val_mean_squared_error: 0.0023\n",
      "Epoch 7/10\n",
      "582/582 [==============================] - 4s 7ms/sample - loss: 1.6935e-05 - mean_squared_error: 1.6935e-05 - val_loss: 0.0023 - val_mean_squared_error: 0.0023\n",
      "Epoch 8/10\n",
      "582/582 [==============================] - 4s 7ms/sample - loss: 8.5669e-06 - mean_squared_error: 8.5669e-06 - val_loss: 0.0023 - val_mean_squared_error: 0.0023\n",
      "Epoch 9/10\n",
      "582/582 [==============================] - 5s 8ms/sample - loss: 4.6405e-06 - mean_squared_error: 4.6405e-06 - val_loss: 0.0023 - val_mean_squared_error: 0.0023\n",
      "Epoch 10/10\n",
      "582/582 [==============================] - 5s 8ms/sample - loss: 2.7274e-06 - mean_squared_error: 2.7274e-06 - val_loss: 0.0023 - val_mean_squared_error: 0.0023\n",
      "208/208 [==============================] - 1s 3ms/sample - loss: 0.0018 - mean_squared_error: 0.0018\n",
      "Train on 582 samples, validate on 250 samples\n",
      "Epoch 1/10\n",
      "582/582 [==============================] - 8s 14ms/sample - loss: 0.0076 - mean_squared_error: 0.0076 - val_loss: 0.0044 - val_mean_squared_error: 0.0044\n",
      "Epoch 2/10\n",
      "582/582 [==============================] - 5s 9ms/sample - loss: 0.0012 - mean_squared_error: 0.0012 - val_loss: 0.0027 - val_mean_squared_error: 0.0027\n",
      "Epoch 3/10\n",
      "582/582 [==============================] - 5s 9ms/sample - loss: 3.5874e-04 - mean_squared_error: 3.5874e-04 - val_loss: 0.0025 - val_mean_squared_error: 0.0025\n",
      "Epoch 4/10\n",
      "582/582 [==============================] - 5s 9ms/sample - loss: 1.1839e-04 - mean_squared_error: 1.1839e-04 - val_loss: 0.0026 - val_mean_squared_error: 0.0026\n",
      "Epoch 5/10\n",
      "320/582 [===============>..............] - ETA: 2s - loss: 5.5410e-05 - mean_squared_error: 5.5410e-05"
     ]
    }
   ],
   "source": [
    "# La 2 ème couche\n",
    "\n",
    "loss = [];\n",
    "\n",
    "for i in range(50,1001,50):\n",
    "    \n",
    "    model = tf.keras.models.Sequential()\n",
    "    model.add(tf.keras.layers.Dense(i, activation = \"relu\"))\n",
    "    model.add(tf.keras.layers.Dense(100, activation = \"relu\"))\n",
    "    model.add(tf.keras.layers.Dense(1,activation = \"sigmoid\"))\n",
    "    \n",
    "    model.compile(\n",
    "        loss = \"mean_squared_error\",\n",
    "        optimizer = \"sgd\",\n",
    "        metrics = [\"mean_squared_error\"]\n",
    "        )\n",
    "    \n",
    "    history = model.fit(pb_train, sol_train, epochs = 10, validation_split = 0.3)\n",
    "    \n",
    "    loss.append(model.evaluate(pb_test, sol_test)[1])"
   ]
  },
  {
   "cell_type": "code",
   "execution_count": null,
   "metadata": {},
   "outputs": [],
   "source": [
    "# L'index de l'érreur la plus petite\n",
    "print(np.argmin(loss))\n",
    "\n",
    "#L'érreur la plus petit\n",
    "print(np.argmin(loss))"
   ]
  },
  {
   "cell_type": "code",
   "execution_count": null,
   "metadata": {},
   "outputs": [],
   "source": [
    "#Visualisation de résultat\n",
    "plt.plot(loss)"
   ]
  },
  {
   "cell_type": "code",
   "execution_count": null,
   "metadata": {},
   "outputs": [],
   "source": [
    "# La 1 ère couche\n",
    "\n",
    "loss = [];\n",
    "\n",
    "for j in range(50,1001,50):\n",
    "    \n",
    "    model = tf.keras.models.Sequential()\n",
    "    model.add(tf.keras.layers.Dense(250, activation = \"relu\"))\n",
    "    model.add(tf.keras.layers.Dense(j, activation = \"relu\"))\n",
    "    model.add(tf.keras.layers.Dense(1,activation = \"sigmoid\"))\n",
    "    \n",
    "    model.compile(\n",
    "        loss = \"mean_squared_error\",\n",
    "        optimizer = \"sgd\",\n",
    "        metrics = [\"mean_squared_error\"]\n",
    "        )\n",
    "    \n",
    "    history = model.fit(pb_train, sol_train, epochs = 10, validation_split = 0.3)\n",
    "    \n",
    "    loss.append(model.evaluate(pb_test, sol_test)[1])"
   ]
  },
  {
   "cell_type": "code",
   "execution_count": 7,
   "metadata": {},
   "outputs": [
    {
     "name": "stdout",
     "output_type": "stream",
     "text": [
      "17\n",
      "17\n"
     ]
    },
    {
     "data": {
      "text/plain": [
       "[<matplotlib.lines.Line2D at 0x1a3723a3c18>]"
      ]
     },
     "execution_count": 7,
     "metadata": {},
     "output_type": "execute_result"
    },
    {
     "data": {
      "image/png": "[encoded data removed]",
      "text/plain": [
       "<Figure size 432x288 with 1 Axes>"
      ]
     },
     "metadata": {
      "needs_background": "light"
     },
     "output_type": "display_data"
    }
   ],
   "source": [
    "# L'index de l'érreur la plus petite\n",
    "print(np.argmin(loss))\n",
    "\n",
    "#L'érreur la plus petit\n",
    "print(np.argmin(loss))\n",
    "\n",
    "#Visualisation de résultat\n",
    "plt.plot(loss)"
   ]
  },
  {
   "cell_type": "code",
   "execution_count": null,
   "metadata": {},
   "outputs": [],
   "source": []
  }
 ],
 "metadata": {
  "kernelspec": {
   "display_name": "Python 3",
   "language": "python",
   "name": "python3"
  },
  "language_info": {
   "codemirror_mode": {
    "name": "ipython",
    "version": 3
   },
   "file_extension": ".py",
   "mimetype": "text/x-python",
   "name": "python",
   "nbconvert_exporter": "python",
   "pygments_lexer": "ipython3",
   "version": "3.7.3"
  }
 },
 "nbformat": 4,
 "nbformat_minor": 2
}
