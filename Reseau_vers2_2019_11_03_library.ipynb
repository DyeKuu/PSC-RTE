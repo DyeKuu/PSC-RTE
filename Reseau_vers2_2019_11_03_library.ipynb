{
 "cells": [
  {
   "cell_type": "code",
   "execution_count": 1,
   "metadata": {},
   "outputs": [
    {
     "name": "stderr",
     "output_type": "stream",
     "text": [
      "/home/etienne/anaconda3/lib/python3.7/site-packages/tensorflow/python/framework/dtypes.py:516: FutureWarning: Passing (type, 1) or '1type' as a synonym of type is deprecated; in a future version of numpy, it will be understood as (type, (1,)) / '(1,)type'.\n",
      "  _np_qint8 = np.dtype([(\"qint8\", np.int8, 1)])\n",
      "/home/etienne/anaconda3/lib/python3.7/site-packages/tensorflow/python/framework/dtypes.py:517: FutureWarning: Passing (type, 1) or '1type' as a synonym of type is deprecated; in a future version of numpy, it will be understood as (type, (1,)) / '(1,)type'.\n",
      "  _np_quint8 = np.dtype([(\"quint8\", np.uint8, 1)])\n",
      "/home/etienne/anaconda3/lib/python3.7/site-packages/tensorflow/python/framework/dtypes.py:518: FutureWarning: Passing (type, 1) or '1type' as a synonym of type is deprecated; in a future version of numpy, it will be understood as (type, (1,)) / '(1,)type'.\n",
      "  _np_qint16 = np.dtype([(\"qint16\", np.int16, 1)])\n",
      "/home/etienne/anaconda3/lib/python3.7/site-packages/tensorflow/python/framework/dtypes.py:519: FutureWarning: Passing (type, 1) or '1type' as a synonym of type is deprecated; in a future version of numpy, it will be understood as (type, (1,)) / '(1,)type'.\n",
      "  _np_quint16 = np.dtype([(\"quint16\", np.uint16, 1)])\n",
      "/home/etienne/anaconda3/lib/python3.7/site-packages/tensorflow/python/framework/dtypes.py:520: FutureWarning: Passing (type, 1) or '1type' as a synonym of type is deprecated; in a future version of numpy, it will be understood as (type, (1,)) / '(1,)type'.\n",
      "  _np_qint32 = np.dtype([(\"qint32\", np.int32, 1)])\n",
      "/home/etienne/anaconda3/lib/python3.7/site-packages/tensorflow/python/framework/dtypes.py:525: FutureWarning: Passing (type, 1) or '1type' as a synonym of type is deprecated; in a future version of numpy, it will be understood as (type, (1,)) / '(1,)type'.\n",
      "  np_resource = np.dtype([(\"resource\", np.ubyte, 1)])\n",
      "/home/etienne/anaconda3/lib/python3.7/site-packages/tensorboard/compat/tensorflow_stub/dtypes.py:541: FutureWarning: Passing (type, 1) or '1type' as a synonym of type is deprecated; in a future version of numpy, it will be understood as (type, (1,)) / '(1,)type'.\n",
      "  _np_qint8 = np.dtype([(\"qint8\", np.int8, 1)])\n",
      "/home/etienne/anaconda3/lib/python3.7/site-packages/tensorboard/compat/tensorflow_stub/dtypes.py:542: FutureWarning: Passing (type, 1) or '1type' as a synonym of type is deprecated; in a future version of numpy, it will be understood as (type, (1,)) / '(1,)type'.\n",
      "  _np_quint8 = np.dtype([(\"quint8\", np.uint8, 1)])\n",
      "/home/etienne/anaconda3/lib/python3.7/site-packages/tensorboard/compat/tensorflow_stub/dtypes.py:543: FutureWarning: Passing (type, 1) or '1type' as a synonym of type is deprecated; in a future version of numpy, it will be understood as (type, (1,)) / '(1,)type'.\n",
      "  _np_qint16 = np.dtype([(\"qint16\", np.int16, 1)])\n",
      "/home/etienne/anaconda3/lib/python3.7/site-packages/tensorboard/compat/tensorflow_stub/dtypes.py:544: FutureWarning: Passing (type, 1) or '1type' as a synonym of type is deprecated; in a future version of numpy, it will be understood as (type, (1,)) / '(1,)type'.\n",
      "  _np_quint16 = np.dtype([(\"quint16\", np.uint16, 1)])\n",
      "/home/etienne/anaconda3/lib/python3.7/site-packages/tensorboard/compat/tensorflow_stub/dtypes.py:545: FutureWarning: Passing (type, 1) or '1type' as a synonym of type is deprecated; in a future version of numpy, it will be understood as (type, (1,)) / '(1,)type'.\n",
      "  _np_qint32 = np.dtype([(\"qint32\", np.int32, 1)])\n",
      "/home/etienne/anaconda3/lib/python3.7/site-packages/tensorboard/compat/tensorflow_stub/dtypes.py:550: FutureWarning: Passing (type, 1) or '1type' as a synonym of type is deprecated; in a future version of numpy, it will be understood as (type, (1,)) / '(1,)type'.\n",
      "  np_resource = np.dtype([(\"resource\", np.ubyte, 1)])\n"
     ]
    }
   ],
   "source": [
    "import tensorflow as tf\n",
    "import pandas as pd\n",
    "import numpy as np\n",
    "import scipy as sc\n",
    "import matplotlib.pyplot as plt\n",
    "from Our_library import *\n",
    "\n",
    "from bokeh.io import show, output_notebook\n",
    "from bokeh.plotting import figure\n",
    "from bokeh.layouts import row, column\n",
    "\n",
    "from sklearn.preprocessing import StandardScaler\n",
    "from sklearn.model_selection import train_test_split\n"
   ]
  },
  {
   "cell_type": "markdown",
   "metadata": {},
   "source": [
    "### Caractéristiques de la version 2\n",
    "\n",
    "* Les solutions sont renormalisées pour globalement rentrer dans l'intervalle [0,1]. Renormalisation linéaire : y = x/(8*moyenne des x) + 3/8.\n",
    "\n",
    "* Les seconds membres sont rescalés aussi avec StandardScaler()\n",
    "\n",
    "* Le réseau auquel on aboutit après un peu d'optimisation est constitué de 3 couches : 50 Relu, 1000 Relu, 1 Sigmoïd\n",
    "\n",
    "* Fonction loss : mean_squared_error\n",
    "\n",
    "* Nombre d'entraînements : 10\n",
    "\n",
    "\n",
    "Idées pour améliorer le réseau :\n",
    "\n",
    "* L'entraîner avec plus de données\n",
    "\n",
    "* L'entaîner sur les données reduced (gain de temps !)\n",
    "\n",
    "* Pour l'optimisation sur le nombre de neurones par couche : procéder de façon plus méthodique en testant toutes les combinaisons simultanées (plutôt que faire varier une couche à la fois)\n",
    "\n",
    "* Essayer de rescaler les solutions autrement (par exemple juste diviser par le max ?)\n",
    "\n",
    "* Tester d'autres fonctions d'activation ?"
   ]
  },
  {
   "cell_type": "markdown",
   "metadata": {},
   "source": [
    "# Configuration des données"
   ]
  },
  {
   "cell_type": "code",
   "execution_count": 2,
   "metadata": {},
   "outputs": [
    {
     "ename": "FileNotFoundError",
     "evalue": "[Errno 2] No such file or directory: 'SecondMember_test.pickle'",
     "output_type": "error",
     "traceback": [
      "\u001b[0;31m---------------------------------------------------------------------------\u001b[0m",
      "\u001b[0;31mFileNotFoundError\u001b[0m                         Traceback (most recent call last)",
      "\u001b[0;32m<ipython-input-2-2fbb29a6837c>\u001b[0m in \u001b[0;36m<module>\u001b[0;34m\u001b[0m\n\u001b[1;32m      1\u001b[0m \u001b[0;31m#importation des données ICI\u001b[0m\u001b[0;34m\u001b[0m\u001b[0;34m\u001b[0m\u001b[0;34m\u001b[0m\u001b[0m\n\u001b[0;32m----> 2\u001b[0;31m \u001b[0msecondmembres\u001b[0m \u001b[0;34m=\u001b[0m \u001b[0mget_SecondMember\u001b[0m\u001b[0;34m(\u001b[0m\u001b[0;34m\"SecondMember_test.pickle\"\u001b[0m\u001b[0;34m)\u001b[0m\u001b[0;34m\u001b[0m\u001b[0;34m\u001b[0m\u001b[0m\n\u001b[0m\u001b[1;32m      3\u001b[0m \u001b[0msolutions\u001b[0m \u001b[0;34m=\u001b[0m \u001b[0mget_Solutions\u001b[0m\u001b[0;34m(\u001b[0m\u001b[0;34m\"OurSolutions_test.pickle\"\u001b[0m\u001b[0;34m)\u001b[0m\u001b[0;34m\u001b[0m\u001b[0;34m\u001b[0m\u001b[0m\n",
      "\u001b[0;32m~/Documents/X/PSC/Our_library.py\u001b[0m in \u001b[0;36mget_SecondMember\u001b[0;34m(nom_fichier)\u001b[0m\n\u001b[1;32m     36\u001b[0m \u001b[0;32mdef\u001b[0m \u001b[0mget_SecondMember\u001b[0m\u001b[0;34m(\u001b[0m\u001b[0mnom_fichier\u001b[0m\u001b[0;34m)\u001b[0m\u001b[0;34m:\u001b[0m\u001b[0;34m\u001b[0m\u001b[0;34m\u001b[0m\u001b[0m\n\u001b[1;32m     37\u001b[0m     \u001b[0;34m'''renvoie le vecteur des seconds membres coontenus dans le fichier nom_fichier'''\u001b[0m\u001b[0;34m\u001b[0m\u001b[0;34m\u001b[0m\u001b[0m\n\u001b[0;32m---> 38\u001b[0;31m     \u001b[0;32mreturn\u001b[0m \u001b[0mnp\u001b[0m\u001b[0;34m.\u001b[0m\u001b[0mvstack\u001b[0m\u001b[0;34m(\u001b[0m\u001b[0mnp\u001b[0m\u001b[0;34m.\u001b[0m\u001b[0marray\u001b[0m\u001b[0;34m(\u001b[0m\u001b[0mpd\u001b[0m\u001b[0;34m.\u001b[0m\u001b[0mDataFrame\u001b[0m\u001b[0;34m(\u001b[0m\u001b[0mpd\u001b[0m\u001b[0;34m.\u001b[0m\u001b[0mread_pickle\u001b[0m\u001b[0;34m(\u001b[0m\u001b[0mnom_fichier\u001b[0m\u001b[0;34m)\u001b[0m\u001b[0;34m)\u001b[0m\u001b[0;34m[\u001b[0m\u001b[0;36m0\u001b[0m\u001b[0;34m]\u001b[0m\u001b[0;34m)\u001b[0m\u001b[0;34m)\u001b[0m\u001b[0;34m\u001b[0m\u001b[0;34m\u001b[0m\u001b[0m\n\u001b[0m\u001b[1;32m     39\u001b[0m \u001b[0;34m\u001b[0m\u001b[0m\n\u001b[1;32m     40\u001b[0m \u001b[0;31m#4\u001b[0m\u001b[0;34m\u001b[0m\u001b[0;34m\u001b[0m\u001b[0;34m\u001b[0m\u001b[0m\n",
      "\u001b[0;32m~/anaconda3/lib/python3.7/site-packages/pandas/io/pickle.py\u001b[0m in \u001b[0;36mread_pickle\u001b[0;34m(path, compression)\u001b[0m\n\u001b[1;32m    143\u001b[0m     \"\"\"\n\u001b[1;32m    144\u001b[0m     \u001b[0mpath\u001b[0m \u001b[0;34m=\u001b[0m \u001b[0m_stringify_path\u001b[0m\u001b[0;34m(\u001b[0m\u001b[0mpath\u001b[0m\u001b[0;34m)\u001b[0m\u001b[0;34m\u001b[0m\u001b[0;34m\u001b[0m\u001b[0m\n\u001b[0;32m--> 145\u001b[0;31m     \u001b[0mf\u001b[0m\u001b[0;34m,\u001b[0m \u001b[0mfh\u001b[0m \u001b[0;34m=\u001b[0m \u001b[0m_get_handle\u001b[0m\u001b[0;34m(\u001b[0m\u001b[0mpath\u001b[0m\u001b[0;34m,\u001b[0m \u001b[0;34m\"rb\"\u001b[0m\u001b[0;34m,\u001b[0m \u001b[0mcompression\u001b[0m\u001b[0;34m=\u001b[0m\u001b[0mcompression\u001b[0m\u001b[0;34m,\u001b[0m \u001b[0mis_text\u001b[0m\u001b[0;34m=\u001b[0m\u001b[0;32mFalse\u001b[0m\u001b[0;34m)\u001b[0m\u001b[0;34m\u001b[0m\u001b[0;34m\u001b[0m\u001b[0m\n\u001b[0m\u001b[1;32m    146\u001b[0m \u001b[0;34m\u001b[0m\u001b[0m\n\u001b[1;32m    147\u001b[0m     \u001b[0;31m# 1) try standard libary Pickle\u001b[0m\u001b[0;34m\u001b[0m\u001b[0;34m\u001b[0m\u001b[0;34m\u001b[0m\u001b[0m\n",
      "\u001b[0;32m~/anaconda3/lib/python3.7/site-packages/pandas/io/common.py\u001b[0m in \u001b[0;36m_get_handle\u001b[0;34m(path_or_buf, mode, encoding, compression, memory_map, is_text)\u001b[0m\n\u001b[1;32m    403\u001b[0m         \u001b[0;32melse\u001b[0m\u001b[0;34m:\u001b[0m\u001b[0;34m\u001b[0m\u001b[0;34m\u001b[0m\u001b[0m\n\u001b[1;32m    404\u001b[0m             \u001b[0;31m# Binary mode\u001b[0m\u001b[0;34m\u001b[0m\u001b[0;34m\u001b[0m\u001b[0;34m\u001b[0m\u001b[0m\n\u001b[0;32m--> 405\u001b[0;31m             \u001b[0mf\u001b[0m \u001b[0;34m=\u001b[0m \u001b[0mopen\u001b[0m\u001b[0;34m(\u001b[0m\u001b[0mpath_or_buf\u001b[0m\u001b[0;34m,\u001b[0m \u001b[0mmode\u001b[0m\u001b[0;34m)\u001b[0m\u001b[0;34m\u001b[0m\u001b[0;34m\u001b[0m\u001b[0m\n\u001b[0m\u001b[1;32m    406\u001b[0m         \u001b[0mhandles\u001b[0m\u001b[0;34m.\u001b[0m\u001b[0mappend\u001b[0m\u001b[0;34m(\u001b[0m\u001b[0mf\u001b[0m\u001b[0;34m)\u001b[0m\u001b[0;34m\u001b[0m\u001b[0;34m\u001b[0m\u001b[0m\n\u001b[1;32m    407\u001b[0m \u001b[0;34m\u001b[0m\u001b[0m\n",
      "\u001b[0;31mFileNotFoundError\u001b[0m: [Errno 2] No such file or directory: 'SecondMember_test.pickle'"
     ]
    }
   ],
   "source": [
    "#importation des données ICI\n",
    "secondmembres = get_SecondMember(\"SecondMember_test.pickle\")\n",
    "solutions = get_Solutions(\"OurSolutions_test.pickle\")"
   ]
  },
  {
   "cell_type": "code",
   "execution_count": null,
   "metadata": {},
   "outputs": [],
   "source": [
    "#Mise en forme des données\n",
    "moyen_solutions = np.mean(solutions)\n",
    "solutions = solutions/(8*moyen_solutions) + 3/8\n",
    "moyen_solutions = np.mean(solutions)\n",
    "\n",
    "#écart maximal entre les solutions \n",
    "val = (np.max(np.abs(solutions))-np.min(np.abs(solutions)))\n",
    "print(val)\n",
    "\n",
    "#Visualisation des solutions\n",
    "plt.boxplot(solutions, whis = [2.5,97.5])"
   ]
  },
  {
   "cell_type": "code",
   "execution_count": null,
   "metadata": {
    "scrolled": true
   },
   "outputs": [],
   "source": [
    "#Normalize\n",
    "scaler = StandardScaler()\n",
    "secondmembres = scaler.fit_transform(secondmembres)\n",
    "\n",
    "pb_train, pb_test, sol_train, sol_test = train_test_split(secondmembres, solutions, test_size = 0.2, random_state = 1)"
   ]
  },
  {
   "cell_type": "code",
   "execution_count": null,
   "metadata": {},
   "outputs": [],
   "source": [
    "# pb_train = np.reshape(secondmembres,(832,1,118714))\n",
    "# pb_test = np.reshape(secondmembres,(1040-832,1,118714))"
   ]
  },
  {
   "cell_type": "markdown",
   "metadata": {},
   "source": [
    "# Création du modèle"
   ]
  },
  {
   "cell_type": "code",
   "execution_count": null,
   "metadata": {},
   "outputs": [],
   "source": [
    "model = tf.keras.models.Sequential()\n",
    "\n",
    "########## Add the layers ##########\n",
    "model.add(tf.keras.layers.Dense(150, activation = \"relu\"))\n",
    "model.add(tf.keras.layers.Dense(100, activation = \"relu\"))\n",
    "model.add(tf.keras.layers.Dense(1,activation = \"sigmoid\"))"
   ]
  },
  {
   "cell_type": "code",
   "execution_count": null,
   "metadata": {},
   "outputs": [],
   "source": [
    "########## Define the loss function ##########\n",
    "model.compile(\n",
    "        loss = \"mean_squared_error\",\n",
    "        optimizer = \"sgd\",\n",
    "        metrics = [\"mean_squared_error\"]\n",
    "        )"
   ]
  },
  {
   "cell_type": "markdown",
   "metadata": {},
   "source": [
    "# Entraînement du modèle"
   ]
  },
  {
   "cell_type": "code",
   "execution_count": null,
   "metadata": {
    "scrolled": false
   },
   "outputs": [],
   "source": [
    "########### Train the model ##########\n",
    "history = model.fit(pb_train, sol_train, epochs = 10, validation_split = 0.3)"
   ]
  },
  {
   "cell_type": "code",
   "execution_count": null,
   "metadata": {},
   "outputs": [],
   "source": [
    "model.summary()"
   ]
  },
  {
   "cell_type": "markdown",
   "metadata": {},
   "source": [
    "# Visualisation des performances du modèle"
   ]
  },
  {
   "cell_type": "code",
   "execution_count": null,
   "metadata": {},
   "outputs": [],
   "source": [
    "loss_curve = history.history[\"loss\"]\n",
    "loss_val_curve = history.history[\"val_loss\"]\n",
    "\n",
    "plt.plot(loss_curve, label = \"Train\")\n",
    "plt.plot(loss_val_curve, label = \"Val\")\n",
    "plt.legend(loc = 'upper left')\n",
    "plt.title(\"Loss\")\n",
    "plt.show()"
   ]
  },
  {
   "cell_type": "markdown",
   "metadata": {},
   "source": [
    "### Enorme overfitting !\n",
    "Idées pour corriger :\n",
    "* Modifier le nombres de neurones dans chaque couche : fait ci-dessous\n",
    "* Modifier les fonctions d'activation\n",
    "* Entraîner avec plus de données"
   ]
  },
  {
   "cell_type": "markdown",
   "metadata": {},
   "source": [
    "# Évaluation du modèle"
   ]
  },
  {
   "cell_type": "code",
   "execution_count": null,
   "metadata": {},
   "outputs": [],
   "source": [
    "a = model.evaluate(pb_test, sol_test)"
   ]
  },
  {
   "cell_type": "markdown",
   "metadata": {},
   "source": [
    "# Sauvegarde du modèle"
   ]
  },
  {
   "cell_type": "code",
   "execution_count": null,
   "metadata": {},
   "outputs": [],
   "source": [
    "model.save(\"test1.h5\")"
   ]
  },
  {
   "cell_type": "markdown",
   "metadata": {},
   "source": [
    "# Recherche du meilleur modèle"
   ]
  },
  {
   "cell_type": "code",
   "execution_count": null,
   "metadata": {},
   "outputs": [],
   "source": [
    "# La 1 ère couche\n",
    "\n",
    "loss = [];\n",
    "\n",
    "for i in range(50,1001,50):\n",
    "    \n",
    "    model_temporaire = tf.keras.models.Sequential()\n",
    "    model_temporaire.add(tf.keras.layers.Dense(i, activation = \"relu\"))\n",
    "    model_temporaire.add(tf.keras.layers.Dense(100, activation = \"relu\"))\n",
    "    model_temporaire.add(tf.keras.layers.Dense(1,activation = \"sigmoid\"))\n",
    "    \n",
    "    model_temporaire.compile(\n",
    "        loss = \"mean_squared_error\",\n",
    "        optimizer = \"sgd\",\n",
    "        metrics = [\"mean_squared_error\"]\n",
    "        )\n",
    "    \n",
    "    history_temporaire = model_temporaire.fit(pb_train, sol_train, epochs = 10, validation_split = 0.3)\n",
    "    \n",
    "    loss.append(model_temporaire.evaluate(pb_test, sol_test)[1])"
   ]
  },
  {
   "cell_type": "code",
   "execution_count": null,
   "metadata": {},
   "outputs": [],
   "source": [
    "# L'index de l'érreur la plus petite\n",
    "print(np.argmin(loss))\n",
    "\n",
    "#L'érreur la plus petit\n",
    "print(np.min(loss))"
   ]
  },
  {
   "cell_type": "markdown",
   "metadata": {},
   "source": [
    "### BILAN : Avec un nombre de neurones choisi un peu au hasard pour la deuxième couche, ce qui marche le mieux c'est 50 neurones pour la première couche"
   ]
  },
  {
   "cell_type": "code",
   "execution_count": null,
   "metadata": {},
   "outputs": [],
   "source": [
    "#Visualisation de résultat\n",
    "plt.plot(loss)"
   ]
  },
  {
   "cell_type": "code",
   "execution_count": null,
   "metadata": {},
   "outputs": [],
   "source": [
    "# La 2 ème couche\n",
    "\n",
    "loss = [];\n",
    "\n",
    "for j in range(50,1001,50):\n",
    "    \n",
    "    model_temporaire = tf.keras.models.Sequential()\n",
    "    model_temporaire.add(tf.keras.layers.Dense(50, activation = \"relu\"))\n",
    "    model_temporaire.add(tf.keras.layers.Dense(j, activation = \"relu\"))\n",
    "    model_temporaire.add(tf.keras.layers.Dense(1,activation = \"sigmoid\"))\n",
    "    \n",
    "    model_temporaire.compile(\n",
    "        loss = \"mean_squared_error\",\n",
    "        optimizer = \"sgd\",\n",
    "        metrics = [\"mean_squared_error\"]\n",
    "        )\n",
    "    \n",
    "    history_temporaire = model_temporaire.fit(pb_train, sol_train, epochs = 10, validation_split = 0.3)\n",
    "    \n",
    "    loss.append(model_temporaire.evaluate(pb_test, sol_test)[1])"
   ]
  },
  {
   "cell_type": "markdown",
   "metadata": {},
   "source": [
    "### BILAN : Avec 50 neurones pour la première couche, ce qui marche le mieux c'est 1000 neurones pour la deuxième couche"
   ]
  },
  {
   "cell_type": "code",
   "execution_count": null,
   "metadata": {},
   "outputs": [],
   "source": [
    "# L'index de l'érreur la plus petite\n",
    "print(np.argmin(loss))\n",
    "\n",
    "#L'érreur la plus petit\n",
    "print(np.min(loss))\n",
    "\n",
    "#Visualisation de résultat\n",
    "plt.plot(loss)"
   ]
  },
  {
   "cell_type": "markdown",
   "metadata": {},
   "source": [
    "# Création du meilleur modèle"
   ]
  },
  {
   "cell_type": "code",
   "execution_count": null,
   "metadata": {},
   "outputs": [],
   "source": [
    "model_optimise = tf.keras.models.Sequential()\n",
    "\n",
    "########## Add the layers ##########\n",
    "model_optimise.add(tf.keras.layers.Dense(50, activation = \"relu\"))\n",
    "model_optimise.add(tf.keras.layers.Dense(1000, activation = \"relu\"))\n",
    "model_optimise.add(tf.keras.layers.Dense(1,activation = \"sigmoid\"))\n",
    "\n",
    "########## Define the loss function ##########\n",
    "model_optimise.compile(\n",
    "        loss = \"mean_squared_error\",\n",
    "        optimizer = \"sgd\",\n",
    "        metrics = [\"mean_squared_error\"]\n",
    "        )\n",
    "\n",
    "########### Train the model ##########\n",
    "history_optimise = model_optimise.fit(pb_train, sol_train, epochs = 10, validation_split = 0.3)\n",
    "\n",
    "\n",
    "########### Overfitting ? ###########\n",
    "loss_curve = history_optimise.history[\"loss\"]\n",
    "loss_val_curve = history_optimise.history[\"val_loss\"]\n",
    "\n",
    "plt.plot(loss_curve, label = \"Train\")\n",
    "plt.plot(loss_val_curve, label = \"Val\")\n",
    "plt.legend(loc = 'upper left')\n",
    "plt.title(\"Loss\")\n",
    "plt.show()\n",
    "\n",
    "\n",
    "a = model_optimise.evaluate(pb_test, sol_test)\n",
    "model_optimise.save(\"test_optimise.h5\")"
   ]
  },
  {
   "cell_type": "code",
   "execution_count": null,
   "metadata": {},
   "outputs": [],
   "source": []
  }
 ],
 "metadata": {
  "kernelspec": {
   "display_name": "Python 3",
   "language": "python",
   "name": "python3"
  },
  "language_info": {
   "codemirror_mode": {
    "name": "ipython",
    "version": 3
   },
   "file_extension": ".py",
   "mimetype": "text/x-python",
   "name": "python",
   "nbconvert_exporter": "python",
   "pygments_lexer": "ipython3",
   "version": "3.7.3"
  },
  "latex_envs": {
   "LaTeX_envs_menu_present": true,
   "autoclose": false,
   "autocomplete": true,
   "bibliofile": "biblio.bib",
   "cite_by": "apalike",
   "current_citInitial": 1,
   "eqLabelWithNumbers": true,
   "eqNumInitial": 1,
   "hotkeys": {
    "equation": "Ctrl-E",
    "itemize": "Ctrl-I"
   },
   "labels_anchors": false,
   "latex_user_defs": false,
   "report_style_numbering": false,
   "user_envs_cfg": false
  }
 },
 "nbformat": 4,
 "nbformat_minor": 2
}
