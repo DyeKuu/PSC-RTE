{
 "cells": [
  {
   "cell_type": "code",
   "execution_count": 2,
   "metadata": {},
   "outputs": [],
   "source": [
    "import tensorflow as tf\n",
    "import pandas as pd\n",
    "import numpy as np\n",
    "import scipy as sc\n",
    "import matplotlib.pyplot as plt\n",
    "\n",
    "from bokeh.io import show, output_notebook\n",
    "from bokeh.plotting import figure\n",
    "from bokeh.layouts import row, column\n",
    "\n",
    "from sklearn.preprocessing import StandardScaler\n",
    "from sklearn.model_selection import train_test_split"
   ]
  },
  {
   "cell_type": "markdown",
   "metadata": {},
   "source": [
    "# Configuration des données"
   ]
  },
  {
   "cell_type": "code",
   "execution_count": null,
   "metadata": {},
   "outputs": [],
   "source": [
    "#importation des données ICI\n",
    "\n",
    "#Normalize\n",
    "scaler = StandardScaler()\n",
    "secondmembres = scaler.fit_transform(secondmembres)\n",
    "\n",
    "pb_train, pb_test, sol_train, sol_test = train_test_split(secondmembres, solutions, test_size = 0.2, random_state = 1)"
   ]
  },
  {
   "cell_type": "markdown",
   "metadata": {},
   "source": [
    "# Création du modèle"
   ]
  },
  {
   "cell_type": "code",
   "execution_count": null,
   "metadata": {},
   "outputs": [],
   "source": [
    "model = tf.keras.models.Sequential()\n",
    "\n",
    "########## Add the layers ##########\n",
    "\n",
    "model.add(tf.keras.layers.Dense(1000, activation = \"relu\"))\n",
    "model.add(tf.keras.layers.Dense(250, activation = \"relu\"))\n",
    "model.add(tf.keras.layers.Dense(1, activation = \"identity\"))\n",
    "\n",
    "\n",
    "model.summary()\n",
    "\n",
    "########## Define the loss function ##########\n",
    "model.compile(\n",
    "        loss = \"mean_squared_error\",\n",
    "        optimizer = \"sgd\",\n",
    "        metrics = [\"mean_squared_error\"]\n",
    "        )"
   ]
  },
  {
   "cell_type": "markdown",
   "metadata": {},
   "source": [
    "# Entraînement du modèle"
   ]
  },
  {
   "cell_type": "code",
   "execution_count": null,
   "metadata": {},
   "outputs": [],
   "source": [
    "########### Train the model ##########\n",
    "history = model.fit(pb_train, sol_train, epochs = 10, validation_split = 0.3)"
   ]
  },
  {
   "cell_type": "markdown",
   "metadata": {},
   "source": [
    "# Visualisation des performances du modèle"
   ]
  },
  {
   "cell_type": "code",
   "execution_count": null,
   "metadata": {},
   "outputs": [],
   "source": [
    "#loss_curve = history.history[\"loss\"]\n",
    "#acc_curve = history.history[\"acc\"]\n",
    "#loss_val_curve = history.history[\"val_loss\"]\n",
    "#acc_val_curve = history.history[\"val_acc\"]\n",
    "#\n",
    "#plt.plot(loss_curve, label = \"Train\")\n",
    "#plt.plot(loss_val_curve, label = \"Val\")\n",
    "#plt.legend(loc = 'upper left')\n",
    "##plt.title(\"Loss\")\n",
    "#plt.show()\n",
    "#\n",
    "#plt.plot(acc_curve, label = \"Train\")\n",
    "#plt.plot(acc_val_curve, label = \"Val\")\n",
    "#plt.legend(loc = 'upper left')\n",
    "##plt.title(\"Accuracy\")\n",
    "#plt.show()"
   ]
  },
  {
   "cell_type": "markdown",
   "metadata": {},
   "source": [
    "# Évaluation du modèle"
   ]
  },
  {
   "cell_type": "code",
   "execution_count": null,
   "metadata": {},
   "outputs": [],
   "source": [
    "model.evaluate(pb_test, sol_test)"
   ]
  },
  {
   "cell_type": "markdown",
   "metadata": {},
   "source": [
    "# Sauvegarde du modèle"
   ]
  },
  {
   "cell_type": "code",
   "execution_count": null,
   "metadata": {},
   "outputs": [],
   "source": [
    "model.save(\"test1.h5\")"
   ]
  }
 ],
 "metadata": {
  "kernelspec": {
   "display_name": "Python 3",
   "language": "python",
   "name": "python3"
  },
  "language_info": {
   "codemirror_mode": {
    "name": "ipython",
    "version": 3
   },
   "file_extension": ".py",
   "mimetype": "text/x-python",
   "name": "python",
   "nbconvert_exporter": "python",
   "pygments_lexer": "ipython3",
   "version": "3.7.3"
  }
 },
 "nbformat": 4,
 "nbformat_minor": 2
}
