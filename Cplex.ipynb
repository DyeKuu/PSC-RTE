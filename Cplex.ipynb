{
 "cells": [
  {
   "cell_type": "code",
   "execution_count": 9,
   "metadata": {},
   "outputs": [],
   "source": [
    "import cplex"
   ]
  },
  {
   "cell_type": "code",
   "execution_count": 10,
   "metadata": {},
   "outputs": [],
   "source": [
    "path = \"..//RTE//\""
   ]
  },
  {
   "cell_type": "code",
   "execution_count": 11,
   "metadata": {},
   "outputs": [],
   "source": [
    "prob = cplex.Cplex()"
   ]
  },
  {
   "cell_type": "code",
   "execution_count": 15,
   "metadata": {
    "scrolled": false
   },
   "outputs": [
    {
     "name": "stdout",
     "output_type": "stream",
     "text": [
      "\n",
      "Selected objective sense:  MINIMIZE\n",
      "Selected objective  name:  OBJECTIF\n",
      "Selected RHS        name:  RHSVAL\n",
      "Selected bound      name:  BNDVALUE\n"
     ]
    },
    {
     "name": "stderr",
     "output_type": "stream",
     "text": [
      "Warning:  Column 'C0000148' in bound 'BNDVALUE' is Fixed.\n",
      "Warning:  Column 'C0000195' in bound 'BNDVALUE' is Fixed.\n",
      "Warning:  Column 'C0000200' in bound 'BNDVALUE' is Fixed.\n",
      "Warning:  Column 'C0000202' in bound 'BNDVALUE' is Fixed.\n",
      "Warning:  Column 'C0000222' in bound 'BNDVALUE' is Fixed.\n",
      "Warning:  Column 'C0000241' in bound 'BNDVALUE' is Fixed.\n",
      "Warning:  Column 'C0000261' in bound 'BNDVALUE' is Fixed.\n",
      "Warning:  Column 'C0000452' in bound 'BNDVALUE' is Fixed.\n",
      "Warning:  Column 'C0000499' in bound 'BNDVALUE' is Fixed.\n",
      "Warning:  Column 'C0000504' in bound 'BNDVALUE' is Fixed.\n",
      "Warning:  Column 'C0000506' in bound 'BNDVALUE' is Fixed.\n",
      "Warning:  Column 'C0000526' in bound 'BNDVALUE' is Fixed.\n",
      "Warning:  Column 'C0000545' in bound 'BNDVALUE' is Fixed.\n",
      "Warning:  Column 'C0000565' in bound 'BNDVALUE' is Fixed.\n",
      "Warning:  Column 'C0000756' in bound 'BNDVALUE' is Fixed.\n",
      "Warning:  Column 'C0000803' in bound 'BNDVALUE' is Fixed.\n",
      "Warning:  Column 'C0000808' in bound 'BNDVALUE' is Fixed.\n",
      "Warning:  Column 'C0000810' in bound 'BNDVALUE' is Fixed.\n",
      "Warning:  Column 'C0000830' in bound 'BNDVALUE' is Fixed.\n",
      "Warning:  Column 'C0000849' in bound 'BNDVALUE' is Fixed.\n",
      "18742 Column-fixed warnings not printed.\n"
     ]
    }
   ],
   "source": [
    "prob.read(path+\"problem-9-3-20190923-142656\"+\".mps\")"
   ]
  },
  {
   "cell_type": "code",
   "execution_count": 16,
   "metadata": {},
   "outputs": [
    {
     "name": "stdout",
     "output_type": "stream",
     "text": [
      "CPXPARAM_Read_DataCheck                          1\n",
      "Parallel mode: deterministic, using up to 4 threads for concurrent optimization.\n",
      "Tried aggregator 1 time.\n",
      "LP Presolve eliminated 44332 rows and 38763 columns.\n",
      "Aggregator did 2754 substitutions.\n",
      "Reduced LP has 71628 rows, 78099 columns, and 507016 nonzeros.\n",
      "Presolve time = 0.41 sec. (196.11 ticks)\n",
      "Initializing dual steep norms . . .\n",
      "\n",
      "Iteration log . . .\n",
      "Iteration:     1   Dual objective     =     381739335.882789\n",
      "Iteration:  1049   Dual objective     =     678348404.848122\n",
      "Iteration:  2010   Dual objective     =     721130045.970418\n",
      "Iteration:  2851   Dual objective     =     736571881.990776\n",
      "Iteration:  3684   Dual objective     =     745215693.208784\n",
      "Iteration:  4572   Dual objective     =     752450979.352738\n",
      "Iteration:  5472   Dual objective     =     755607845.446407\n",
      "Iteration:  6297   Dual objective     =     757836329.638449\n",
      "Iteration:  6961   Dual objective     =     758986655.033215\n",
      "Perturbation started.\n",
      "Iteration:  7474   Dual objective     =     759551045.855806\n",
      "Iteration:  8194   Dual objective     =     761242762.255527\n",
      "Iteration:  8801   Dual objective     =     762461372.835129\n",
      "Iteration:  9494   Dual objective     =     763403666.276155\n",
      "Iteration: 10050   Dual objective     =     765008561.128770\n",
      "Iteration: 10686   Dual objective     =     765898782.289466\n",
      "Iteration: 11185   Dual objective     =     767003377.263795\n",
      "Iteration: 11623   Dual objective     =     767715469.050381\n",
      "Iteration: 12057   Dual objective     =     768261137.874823\n",
      "Iteration: 12624   Dual objective     =     768472954.618068\n",
      "Iteration: 13152   Dual objective     =     768644160.304563\n",
      "Iteration: 14400   Dual objective     =     768685726.039602\n",
      "Iteration: 14993   Dual objective     =     768698793.096884\n",
      "Iteration: 15371   Dual objective     =     768699549.686494\n",
      "Iteration: 15985   Dual objective     =     768702890.775070\n",
      "Removing perturbation.\n",
      "\n",
      "Dual simplex solved model.\n",
      "\n"
     ]
    }
   ],
   "source": [
    "prob.solve()"
   ]
  },
  {
   "cell_type": "code",
   "execution_count": 17,
   "metadata": {
    "scrolled": true
   },
   "outputs": [
    {
     "data": {
      "text/plain": [
       "768703054.8350317"
      ]
     },
     "execution_count": 17,
     "metadata": {},
     "output_type": "execute_result"
    }
   ],
   "source": [
    "prob.solution.get_objective_value()"
   ]
  }
 ],
 "metadata": {
  "kernelspec": {
   "display_name": "Python 3",
   "language": "python",
   "name": "python3"
  },
  "language_info": {
   "codemirror_mode": {
    "name": "ipython",
    "version": 3
   },
   "file_extension": ".py",
   "mimetype": "text/x-python",
   "name": "python",
   "nbconvert_exporter": "python",
   "pygments_lexer": "ipython3",
   "version": "3.7.3"
  }
 },
 "nbformat": 4,
 "nbformat_minor": 2
}
