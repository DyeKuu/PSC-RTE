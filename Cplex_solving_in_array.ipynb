{
 "cells": [
  {
   "cell_type": "code",
   "execution_count": 5,
   "metadata": {},
   "outputs": [],
   "source": [
    "import cplex\n",
    "import os\n",
    "import datetime\n",
    "import sys\n",
    "import numpy as np"
   ]
  },
  {
   "cell_type": "code",
   "execution_count": 6,
   "metadata": {},
   "outputs": [
    {
     "name": "stdout",
     "output_type": "stream",
     "text": [
      "['problem-1-1-20190923-142640.mps']\n"
     ]
    }
   ],
   "source": [
    "path = \".//Test//\"  #Attention!!!!!! Changer test par Data_RTE\n",
    "read_path = path+\"Problem_RTE//\"\n",
    "write_path = path+\"OurSolution_RTE//\"\n",
    "files = os.listdir(read_path) #obtenir tous les noms sous le ficher\n",
    "print(files)"
   ]
  },
  {
   "cell_type": "code",
   "execution_count": 7,
   "metadata": {},
   "outputs": [],
   "source": [
    "prob = cplex.Cplex()"
   ]
  },
  {
   "cell_type": "code",
   "execution_count": 26,
   "metadata": {},
   "outputs": [
    {
     "name": "stdout",
     "output_type": "stream",
     "text": [
      "\n",
      "Selected objective sense:  MINIMIZE\n",
      "Selected objective  name:  OBJECTIF\n",
      "Selected RHS        name:  RHSVAL\n",
      "Selected bound      name:  BNDVALUE\n"
     ]
    },
    {
     "name": "stderr",
     "output_type": "stream",
     "text": [
      "Warning:  Column 'C0000163' in bound 'BNDVALUE' is Fixed.\n",
      "Warning:  Column 'C0000200' in bound 'BNDVALUE' is Fixed.\n",
      "Warning:  Column 'C0000261' in bound 'BNDVALUE' is Fixed.\n",
      "Warning:  Column 'C0000271' in bound 'BNDVALUE' is Fixed.\n",
      "Warning:  Column 'C0000467' in bound 'BNDVALUE' is Fixed.\n",
      "Warning:  Column 'C0000504' in bound 'BNDVALUE' is Fixed.\n",
      "Warning:  Column 'C0000565' in bound 'BNDVALUE' is Fixed.\n",
      "Warning:  Column 'C0000575' in bound 'BNDVALUE' is Fixed.\n",
      "Warning:  Column 'C0000771' in bound 'BNDVALUE' is Fixed.\n",
      "Warning:  Column 'C0000808' in bound 'BNDVALUE' is Fixed.\n",
      "Warning:  Column 'C0000869' in bound 'BNDVALUE' is Fixed.\n",
      "Warning:  Column 'C0000879' in bound 'BNDVALUE' is Fixed.\n",
      "Warning:  Column 'C0001075' in bound 'BNDVALUE' is Fixed.\n",
      "Warning:  Column 'C0001112' in bound 'BNDVALUE' is Fixed.\n",
      "Warning:  Column 'C0001173' in bound 'BNDVALUE' is Fixed.\n",
      "Warning:  Column 'C0001183' in bound 'BNDVALUE' is Fixed.\n",
      "Warning:  Column 'C0001379' in bound 'BNDVALUE' is Fixed.\n",
      "Warning:  Column 'C0001416' in bound 'BNDVALUE' is Fixed.\n",
      "Warning:  Column 'C0001477' in bound 'BNDVALUE' is Fixed.\n",
      "Warning:  Column 'C0001487' in bound 'BNDVALUE' is Fixed.\n",
      "17931 Column-fixed warnings not printed.\n"
     ]
    },
    {
     "name": "stdout",
     "output_type": "stream",
     "text": [
      "CPXPARAM_Read_DataCheck                          1\n",
      "Parallel mode: deterministic, using up to 4 threads for concurrent optimization.\n",
      "Tried aggregator 1 time.\n",
      "LP Presolve eliminated 43578 rows and 38350 columns.\n",
      "Aggregator did 2439 substitutions.\n",
      "Reduced LP has 72697 rows, 78827 columns, and 560440 nonzeros.\n",
      "Presolve time = 1.11 sec. (199.05 ticks)\n",
      "Initializing dual steep norms . . .\n",
      "\n",
      "Iteration log . . .\n",
      "Iteration:     1   Dual objective     =     376966393.994610\n",
      "Iteration:   920   Dual objective     =     842276924.671217\n",
      "Iteration:  1700   Dual objective     =     873575680.954683\n",
      "Iteration:  2505   Dual objective     =     880212127.724112\n",
      "Iteration:  3338   Dual objective     =     897309750.895511\n",
      "Iteration:  4188   Dual objective     =     901486348.644928\n",
      "Iteration:  5128   Dual objective     =     911868490.474870\n",
      "Iteration:  5843   Dual objective     =     914908813.608228\n",
      "Iteration:  6682   Dual objective     =     916036775.617282\n",
      "Iteration:  7601   Dual objective     =     916514259.226461\n",
      "Iteration:  8304   Dual objective     =     917489322.974059\n",
      "Iteration:  8927   Dual objective     =     918820048.345690\n",
      "Iteration:  9818   Dual objective     =     920809753.053777\n",
      "Iteration: 10509   Dual objective     =     921655471.128594\n",
      "Iteration: 11045   Dual objective     =     922611387.660739\n",
      "Iteration: 11582   Dual objective     =     923339347.230596\n",
      "Iteration: 12281   Dual objective     =     923521580.930739\n",
      "Iteration: 12787   Dual objective     =     924316326.184857\n",
      "Iteration: 13251   Dual objective     =     924506405.728687\n",
      "Iteration: 13786   Dual objective     =     924755117.919968\n",
      "Iteration: 14183   Dual objective     =     924890655.399175\n",
      "Iteration: 14737   Dual objective     =     924931212.954653\n",
      "Iteration: 15937   Dual objective     =     924967954.474726\n",
      "Iteration: 16434   Dual objective     =     924980862.676247\n",
      "Iteration: 17100   Dual objective     =     924983407.379278\n",
      "Removing shift (2).\n",
      "\n",
      "Dual simplex solved model.\n",
      "\n"
     ]
    },
    {
     "ename": "TypeError",
     "evalue": "Mismatch between array dtype ('<U20') and format specifier ('%s %f')",
     "output_type": "error",
     "traceback": [
      "\u001b[1;31m---------------------------------------------------------------------------\u001b[0m",
      "\u001b[1;31mTypeError\u001b[0m                                 Traceback (most recent call last)",
      "\u001b[1;32m~\\Anaconda3\\lib\\site-packages\\numpy\\lib\\npyio.py\u001b[0m in \u001b[0;36msavetxt\u001b[1;34m(fname, X, fmt, delimiter, newline, header, footer, comments, encoding)\u001b[0m\n\u001b[0;32m   1428\u001b[0m                 \u001b[1;32mtry\u001b[0m\u001b[1;33m:\u001b[0m\u001b[1;33m\u001b[0m\u001b[1;33m\u001b[0m\u001b[0m\n\u001b[1;32m-> 1429\u001b[1;33m                     \u001b[0mv\u001b[0m \u001b[1;33m=\u001b[0m \u001b[0mformat\u001b[0m \u001b[1;33m%\u001b[0m \u001b[0mtuple\u001b[0m\u001b[1;33m(\u001b[0m\u001b[0mrow\u001b[0m\u001b[1;33m)\u001b[0m \u001b[1;33m+\u001b[0m \u001b[0mnewline\u001b[0m\u001b[1;33m\u001b[0m\u001b[1;33m\u001b[0m\u001b[0m\n\u001b[0m\u001b[0;32m   1430\u001b[0m                 \u001b[1;32mexcept\u001b[0m \u001b[0mTypeError\u001b[0m\u001b[1;33m:\u001b[0m\u001b[1;33m\u001b[0m\u001b[1;33m\u001b[0m\u001b[0m\n",
      "\u001b[1;31mTypeError\u001b[0m: must be real number, not numpy.str_",
      "\nDuring handling of the above exception, another exception occurred:\n",
      "\u001b[1;31mTypeError\u001b[0m                                 Traceback (most recent call last)",
      "\u001b[1;32m<ipython-input-26-d0aa23d2bcf8>\u001b[0m in \u001b[0;36m<module>\u001b[1;34m\u001b[0m\n\u001b[0;32m     13\u001b[0m \u001b[1;33m\u001b[0m\u001b[0m\n\u001b[0;32m     14\u001b[0m \u001b[0msol_array\u001b[0m \u001b[1;33m=\u001b[0m \u001b[0mnp\u001b[0m\u001b[1;33m.\u001b[0m\u001b[0marray\u001b[0m\u001b[1;33m(\u001b[0m\u001b[0msol_array\u001b[0m\u001b[1;33m)\u001b[0m\u001b[1;33m\u001b[0m\u001b[1;33m\u001b[0m\u001b[0m\n\u001b[1;32m---> 15\u001b[1;33m \u001b[0mnp\u001b[0m\u001b[1;33m.\u001b[0m\u001b[0msavetxt\u001b[0m\u001b[1;33m(\u001b[0m\u001b[1;34m'sol_array.txt'\u001b[0m\u001b[1;33m,\u001b[0m \u001b[0msol_array\u001b[0m\u001b[1;33m,\u001b[0m \u001b[0mfmt\u001b[0m\u001b[1;33m=\u001b[0m\u001b[1;34m'%s %f'\u001b[0m\u001b[1;33m)\u001b[0m\u001b[1;33m\u001b[0m\u001b[1;33m\u001b[0m\u001b[0m\n\u001b[0m\u001b[0;32m     16\u001b[0m \u001b[1;33m\u001b[0m\u001b[0m\n\u001b[0;32m     17\u001b[0m \u001b[0mend_time\u001b[0m \u001b[1;33m=\u001b[0m \u001b[0mdatetime\u001b[0m\u001b[1;33m.\u001b[0m\u001b[0mdatetime\u001b[0m\u001b[1;33m.\u001b[0m\u001b[0mnow\u001b[0m\u001b[1;33m(\u001b[0m\u001b[1;33m)\u001b[0m\u001b[1;33m\u001b[0m\u001b[1;33m\u001b[0m\u001b[0m\n",
      "\u001b[1;32m~\\Anaconda3\\lib\\site-packages\\numpy\\lib\\npyio.py\u001b[0m in \u001b[0;36msavetxt\u001b[1;34m(fname, X, fmt, delimiter, newline, header, footer, comments, encoding)\u001b[0m\n\u001b[0;32m   1431\u001b[0m                     raise TypeError(\"Mismatch between array dtype ('%s') and \"\n\u001b[0;32m   1432\u001b[0m                                     \u001b[1;34m\"format specifier ('%s')\"\u001b[0m\u001b[1;33m\u001b[0m\u001b[1;33m\u001b[0m\u001b[0m\n\u001b[1;32m-> 1433\u001b[1;33m                                     % (str(X.dtype), format))\n\u001b[0m\u001b[0;32m   1434\u001b[0m                 \u001b[0mfh\u001b[0m\u001b[1;33m.\u001b[0m\u001b[0mwrite\u001b[0m\u001b[1;33m(\u001b[0m\u001b[0mv\u001b[0m\u001b[1;33m)\u001b[0m\u001b[1;33m\u001b[0m\u001b[1;33m\u001b[0m\u001b[0m\n\u001b[0;32m   1435\u001b[0m \u001b[1;33m\u001b[0m\u001b[0m\n",
      "\u001b[1;31mTypeError\u001b[0m: Mismatch between array dtype ('<U20') and format specifier ('%s %f')"
     ]
    }
   ],
   "source": [
    "start_time = datetime.datetime.now()\n",
    "\n",
    "sol_array = []\n",
    "\n",
    "for file in files:\n",
    "    prob.read(read_path+file)\n",
    "    prob.solve()\n",
    "    ind = int(file[-5])\n",
    "    ind = ind + 1\n",
    "    objective_value = prob.solution.get_objective_value()\n",
    "    \n",
    "    sol_array.append((file[7:-5]+str(ind), objective_value))\n",
    "\n",
    "sol_array = np.array(sol_array)\n",
    "np.savetxt('sol_array.txt', sol_array, fmt='%s %f')\n",
    "\n",
    "end_time = datetime.datetime.now()\n",
    "execution_time = end_time - start_time #calcule le temps d'exécution"
   ]
  },
  {
   "cell_type": "code",
   "execution_count": null,
   "metadata": {},
   "outputs": [],
   "source": [
    "print(execution_time)"
   ]
  }
 ],
 "metadata": {
  "kernelspec": {
   "display_name": "Python 3",
   "language": "python",
   "name": "python3"
  },
  "language_info": {
   "codemirror_mode": {
    "name": "ipython",
    "version": 3
   },
   "file_extension": ".py",
   "mimetype": "text/x-python",
   "name": "python",
   "nbconvert_exporter": "python",
   "pygments_lexer": "ipython3",
   "version": "3.7.3"
  }
 },
 "nbformat": 4,
 "nbformat_minor": 2
}
